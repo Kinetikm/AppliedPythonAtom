{
 "cells": [
  {
   "cell_type": "code",
   "execution_count": 1,
   "metadata": {
    "ExecuteTime": {
     "end_time": "2019-04-02T10:11:09.014947Z",
     "start_time": "2019-04-02T10:11:08.585672Z"
    }
   },
   "outputs": [],
   "source": [
    "import numpy as np\n",
    "import pandas as pd\n",
    "\n",
    "import matplotlib.pyplot as plt\n",
    "%matplotlib inline"
   ]
  },
  {
   "cell_type": "markdown",
   "metadata": {},
   "source": [
    "# STEP 1. Скачайте датасет.\n",
    "\n",
    "Download the Adult training data set: http://archive.ics.uci.edu/ml/datasets/Adult\n",
    "(file adult.data)"
   ]
  },
  {
   "cell_type": "code",
   "execution_count": 2,
   "metadata": {
    "ExecuteTime": {
     "end_time": "2019-04-02T10:10:52.702808Z",
     "start_time": "2019-04-02T10:09:48.402049Z"
    }
   },
   "outputs": [
    {
     "name": "stdout",
     "output_type": "stream",
     "text": [
      "--2019-04-04 08:39:03--  http://archive.ics.uci.edu/ml/machine-learning-databases/adult/adult.data\n",
      "Распознаётся archive.ics.uci.edu (archive.ics.uci.edu)… 128.195.10.249\n",
      "Подключение к archive.ics.uci.edu (archive.ics.uci.edu)|128.195.10.249|:80... соединение установлено.\n",
      "HTTP-запрос отправлен. Ожидание ответа… 200 OK\n",
      "Длина: 3974305 (3,8M) [text/plain]\n",
      "Сохранение в: «adult.data.1»\n",
      "\n",
      "adult.data.1        100%[===================>]   3,79M  1,36MB/s    за 2,8s    \n",
      "\n",
      "2019-04-04 08:39:07 (1,36 MB/s) - «adult.data.1» сохранён [3974305/3974305]\n",
      "\n"
     ]
    }
   ],
   "source": [
    "!wget http://archive.ics.uci.edu/ml/machine-learning-databases/adult/adult.data"
   ]
  },
  {
   "cell_type": "code",
   "execution_count": 2,
   "metadata": {
    "ExecuteTime": {
     "end_time": "2019-04-02T10:11:20.117251Z",
     "start_time": "2019-04-02T10:11:19.983901Z"
    },
    "scrolled": true
   },
   "outputs": [
    {
     "name": "stdout",
     "output_type": "stream",
     "text": [
      "39, State-gov, 77516, Bachelors, 13, Never-married, Adm-clerical, Not-in-family, White, Male, 2174, 0, 40, United-States, <=50K\r\n",
      "50, Self-emp-not-inc, 83311, Bachelors, 13, Married-civ-spouse, Exec-managerial, Husband, White, Male, 0, 0, 13, United-States, <=50K\r\n",
      "38, Private, 215646, HS-grad, 9, Divorced, Handlers-cleaners, Not-in-family, White, Male, 0, 0, 40, United-States, <=50K\r\n",
      "53, Private, 234721, 11th, 7, Married-civ-spouse, Handlers-cleaners, Husband, Black, Male, 0, 0, 40, United-States, <=50K\r\n",
      "28, Private, 338409, Bachelors, 13, Married-civ-spouse, Prof-specialty, Wife, Black, Female, 0, 0, 40, Cuba, <=50K\r\n",
      "37, Private, 284582, Masters, 14, Married-civ-spouse, Exec-managerial, Wife, White, Female, 0, 0, 40, United-States, <=50K\r\n",
      "49, Private, 160187, 9th, 5, Married-spouse-absent, Other-service, Not-in-family, Black, Female, 0, 0, 16, Jamaica, <=50K\r\n",
      "52, Self-emp-not-inc, 209642, HS-grad, 9, Married-civ-spouse, Exec-managerial, Husband, White, Male, 0, 0, 45, United-States, >50K\r\n",
      "31, Private, 45781, Masters, 14, Never-married, Prof-specialty, Not-in-family, White, Female, 14084, 0, 50, United-States, >50K\r\n",
      "42, Private, 159449, Bachelors, 13, Married-civ-spouse, Exec-managerial, Husband, White, Male, 5178, 0, 40, United-States, >50K\r\n"
     ]
    }
   ],
   "source": [
    "!head adult.data"
   ]
  },
  {
   "cell_type": "markdown",
   "metadata": {},
   "source": [
    "# Step 2. Поймите формат и зачитайте adult.data в переменную df. Используйте cols чтобы дать нормальные названия колонкам.\n",
    "\n",
    "Обратите внимание на формат!"
   ]
  },
  {
   "cell_type": "code",
   "execution_count": 2,
   "metadata": {
    "ExecuteTime": {
     "end_time": "2019-04-02T10:20:44.038476Z",
     "start_time": "2019-04-02T10:20:44.029507Z"
    }
   },
   "outputs": [],
   "source": [
    "cols = ['age', 'workclass', 'fnlwgt', 'education', 'education-num', 'marital-status', 'occupation', 'relationship', 'race', 'sex', 'capital-gain', 'capital-loss', 'hours-per-week', 'native-country', 'result']"
   ]
  },
  {
   "cell_type": "code",
   "execution_count": 3,
   "metadata": {},
   "outputs": [],
   "source": [
    "df = pd.read_csv('adult.data', names=cols)"
   ]
  },
  {
   "cell_type": "code",
   "execution_count": 4,
   "metadata": {
    "ExecuteTime": {
     "end_time": "2019-04-02T10:37:02.277041Z",
     "start_time": "2019-04-02T10:37:02.246550Z"
    }
   },
   "outputs": [
    {
     "data": {
      "text/html": [
       "<div>\n",
       "<style scoped>\n",
       "    .dataframe tbody tr th:only-of-type {\n",
       "        vertical-align: middle;\n",
       "    }\n",
       "\n",
       "    .dataframe tbody tr th {\n",
       "        vertical-align: top;\n",
       "    }\n",
       "\n",
       "    .dataframe thead th {\n",
       "        text-align: right;\n",
       "    }\n",
       "</style>\n",
       "<table border=\"1\" class=\"dataframe\">\n",
       "  <thead>\n",
       "    <tr style=\"text-align: right;\">\n",
       "      <th></th>\n",
       "      <th>age</th>\n",
       "      <th>workclass</th>\n",
       "      <th>fnlwgt</th>\n",
       "      <th>education</th>\n",
       "      <th>education-num</th>\n",
       "      <th>marital-status</th>\n",
       "      <th>occupation</th>\n",
       "      <th>relationship</th>\n",
       "      <th>race</th>\n",
       "      <th>sex</th>\n",
       "      <th>capital-gain</th>\n",
       "      <th>capital-loss</th>\n",
       "      <th>hours-per-week</th>\n",
       "      <th>native-country</th>\n",
       "      <th>result</th>\n",
       "    </tr>\n",
       "  </thead>\n",
       "  <tbody>\n",
       "    <tr>\n",
       "      <th>0</th>\n",
       "      <td>39</td>\n",
       "      <td>State-gov</td>\n",
       "      <td>77516</td>\n",
       "      <td>Bachelors</td>\n",
       "      <td>13</td>\n",
       "      <td>Never-married</td>\n",
       "      <td>Adm-clerical</td>\n",
       "      <td>Not-in-family</td>\n",
       "      <td>White</td>\n",
       "      <td>Male</td>\n",
       "      <td>2174</td>\n",
       "      <td>0</td>\n",
       "      <td>40</td>\n",
       "      <td>United-States</td>\n",
       "      <td>&lt;=50K</td>\n",
       "    </tr>\n",
       "    <tr>\n",
       "      <th>1</th>\n",
       "      <td>50</td>\n",
       "      <td>Self-emp-not-inc</td>\n",
       "      <td>83311</td>\n",
       "      <td>Bachelors</td>\n",
       "      <td>13</td>\n",
       "      <td>Married-civ-spouse</td>\n",
       "      <td>Exec-managerial</td>\n",
       "      <td>Husband</td>\n",
       "      <td>White</td>\n",
       "      <td>Male</td>\n",
       "      <td>0</td>\n",
       "      <td>0</td>\n",
       "      <td>13</td>\n",
       "      <td>United-States</td>\n",
       "      <td>&lt;=50K</td>\n",
       "    </tr>\n",
       "    <tr>\n",
       "      <th>2</th>\n",
       "      <td>38</td>\n",
       "      <td>Private</td>\n",
       "      <td>215646</td>\n",
       "      <td>HS-grad</td>\n",
       "      <td>9</td>\n",
       "      <td>Divorced</td>\n",
       "      <td>Handlers-cleaners</td>\n",
       "      <td>Not-in-family</td>\n",
       "      <td>White</td>\n",
       "      <td>Male</td>\n",
       "      <td>0</td>\n",
       "      <td>0</td>\n",
       "      <td>40</td>\n",
       "      <td>United-States</td>\n",
       "      <td>&lt;=50K</td>\n",
       "    </tr>\n",
       "    <tr>\n",
       "      <th>3</th>\n",
       "      <td>53</td>\n",
       "      <td>Private</td>\n",
       "      <td>234721</td>\n",
       "      <td>11th</td>\n",
       "      <td>7</td>\n",
       "      <td>Married-civ-spouse</td>\n",
       "      <td>Handlers-cleaners</td>\n",
       "      <td>Husband</td>\n",
       "      <td>Black</td>\n",
       "      <td>Male</td>\n",
       "      <td>0</td>\n",
       "      <td>0</td>\n",
       "      <td>40</td>\n",
       "      <td>United-States</td>\n",
       "      <td>&lt;=50K</td>\n",
       "    </tr>\n",
       "    <tr>\n",
       "      <th>4</th>\n",
       "      <td>28</td>\n",
       "      <td>Private</td>\n",
       "      <td>338409</td>\n",
       "      <td>Bachelors</td>\n",
       "      <td>13</td>\n",
       "      <td>Married-civ-spouse</td>\n",
       "      <td>Prof-specialty</td>\n",
       "      <td>Wife</td>\n",
       "      <td>Black</td>\n",
       "      <td>Female</td>\n",
       "      <td>0</td>\n",
       "      <td>0</td>\n",
       "      <td>40</td>\n",
       "      <td>Cuba</td>\n",
       "      <td>&lt;=50K</td>\n",
       "    </tr>\n",
       "  </tbody>\n",
       "</table>\n",
       "</div>"
      ],
      "text/plain": [
       "   age          workclass  fnlwgt   education  education-num  \\\n",
       "0   39          State-gov   77516   Bachelors             13   \n",
       "1   50   Self-emp-not-inc   83311   Bachelors             13   \n",
       "2   38            Private  215646     HS-grad              9   \n",
       "3   53            Private  234721        11th              7   \n",
       "4   28            Private  338409   Bachelors             13   \n",
       "\n",
       "        marital-status          occupation    relationship    race      sex  \\\n",
       "0        Never-married        Adm-clerical   Not-in-family   White     Male   \n",
       "1   Married-civ-spouse     Exec-managerial         Husband   White     Male   \n",
       "2             Divorced   Handlers-cleaners   Not-in-family   White     Male   \n",
       "3   Married-civ-spouse   Handlers-cleaners         Husband   Black     Male   \n",
       "4   Married-civ-spouse      Prof-specialty            Wife   Black   Female   \n",
       "\n",
       "   capital-gain  capital-loss  hours-per-week  native-country  result  \n",
       "0          2174             0              40   United-States   <=50K  \n",
       "1             0             0              13   United-States   <=50K  \n",
       "2             0             0              40   United-States   <=50K  \n",
       "3             0             0              40   United-States   <=50K  \n",
       "4             0             0              40            Cuba   <=50K  "
      ]
     },
     "execution_count": 4,
     "metadata": {},
     "output_type": "execute_result"
    }
   ],
   "source": [
    "df.head()"
   ]
  },
  {
   "cell_type": "markdown",
   "metadata": {},
   "source": [
    "# Сколько мужчин и женщин?"
   ]
  },
  {
   "cell_type": "code",
   "execution_count": 5,
   "metadata": {},
   "outputs": [
    {
     "name": "stdout",
     "output_type": "stream",
     "text": [
      "Количество мужчин:  21790\n",
      "Количество женщин:  10771\n"
     ]
    }
   ],
   "source": [
    "print('Количество мужчин: ', df.sex.value_counts()[' Male'])\n",
    "print('Количество женщин: ', df.sex.value_counts()[' Female'])"
   ]
  },
  {
   "cell_type": "markdown",
   "metadata": {},
   "source": [
    "# Средний возраст мужчин и женщин?"
   ]
  },
  {
   "cell_type": "code",
   "execution_count": 6,
   "metadata": {},
   "outputs": [
    {
     "name": "stdout",
     "output_type": "stream",
     "text": [
      "Средний возраст мужчин: 39.434 лет\n",
      "Средний возраст мужчин: 36.858 лет\n"
     ]
    }
   ],
   "source": [
    "print('Средний возраст мужчин: {} лет'.format(round(df.groupby('sex')['age'].mean()[' Male'], 3)))\n",
    "print('Средний возраст мужчин: {} лет'.format(round(df.groupby('sex')['age'].mean()[' Female'], 3)))"
   ]
  },
  {
   "cell_type": "markdown",
   "metadata": {},
   "source": [
    "# Какая доля граждан США (United-States) в данном датасете?"
   ]
  },
  {
   "cell_type": "code",
   "execution_count": 7,
   "metadata": {},
   "outputs": [
    {
     "name": "stdout",
     "output_type": "stream",
     "text": [
      "0.896 - доля граждан США\n"
     ]
    }
   ],
   "source": [
    "print(round(df['native-country'].value_counts(True)[' United-States'], 3), '- доля граждан США')"
   ]
  },
  {
   "cell_type": "markdown",
   "metadata": {},
   "source": [
    "# Нарисуйте распределение образования людей (используйте bar plot)\n",
    "\n",
    "Подпишите график и оси."
   ]
  },
  {
   "cell_type": "code",
   "execution_count": 8,
   "metadata": {},
   "outputs": [
    {
     "data": {
      "text/plain": [
       "Text(0, 0.5, 'Относительная доля людей')"
      ]
     },
     "execution_count": 8,
     "metadata": {},
     "output_type": "execute_result"
    },
    {
     "data": {
      "image/png": "[encoded data removed]",
      "text/plain": [
       "<Figure size 432x288 with 1 Axes>"
      ]
     },
     "metadata": {
      "needs_background": "light"
     },
     "output_type": "display_data"
    }
   ],
   "source": [
    "help_df = pd.DataFrame(df.education.value_counts(True))\n",
    "ax = help_df.plot.bar()\n",
    "ax.set_xlabel('Тип образования')\n",
    "ax.set_ylabel('Относительная доля людей')"
   ]
  },
  {
   "cell_type": "markdown",
   "metadata": {},
   "source": [
    "# Какое среднее значение и квадратичное отклонение (std) fnlwgt (”final weight”) разведенных (divorced people) людей. Нарисуйте гистрограмму (Какое распределение оно вам напоминает?)"
   ]
  },
  {
   "cell_type": "code",
   "execution_count": 9,
   "metadata": {
    "scrolled": false
   },
   "outputs": [
    {
     "name": "stdout",
     "output_type": "stream",
     "text": [
      "Mean: 185802.79\n",
      "Standart deviation: 105646.789\n"
     ]
    },
    {
     "data": {
      "text/plain": [
       "[<matplotlib.axis.XTick at 0x7feb917dbb38>,\n",
       " <matplotlib.axis.XTick at 0x7feb917db4a8>,\n",
       " <matplotlib.axis.XTick at 0x7feb9175ffd0>,\n",
       " <matplotlib.axis.XTick at 0x7feb917f64a8>]"
      ]
     },
     "execution_count": 9,
     "metadata": {},
     "output_type": "execute_result"
    },
    {
     "data": {
      "image/png": "[encoded data removed]",
      "text/plain": [
       "<Figure size 576x576 with 1 Axes>"
      ]
     },
     "metadata": {
      "needs_background": "light"
     },
     "output_type": "display_data"
    }
   ],
   "source": [
    "print('Mean: {}'.format(round(df.groupby('marital-status')['fnlwgt'].mean()[' Divorced'], 3)))\n",
    "print('Standart deviation: {}'.format(round(df.groupby('marital-status')['fnlwgt'].std()[' Divorced'], 3)))\n",
    "num_of_bins = 50\n",
    "help_df = df.groupby('marital-status')['fnlwgt'].value_counts(bins = num_of_bins, sort = False)[' Divorced']\n",
    "help_df.index = help_df.index.astype('interval[int64]')  # изменяем тип для дальнейшей красоты\n",
    "ax = help_df.plot.bar(figsize = (8, 8), color = 'blue')\n",
    "ax.set_xlabel('final weight')\n",
    "ax.set_ylabel('Количество человек')\n",
    "# set_xticks задает расположение меток по ох, однако относительно чего местоположения рассчитываются - не понял\n",
    "ax.set_xticks([0, 5, 10, 15])"
   ]
  },
  {
   "cell_type": "markdown",
   "metadata": {},
   "source": [
    "> Ответ: распределение Пуассона"
   ]
  },
  {
   "cell_type": "markdown",
   "metadata": {},
   "source": [
    "# Правда ли, что большинство людей, из тех кто получает больше 50k, с высшим образованием  (BSc, MSc, PhD - ????)"
   ]
  },
  {
   "cell_type": "code",
   "execution_count": 13,
   "metadata": {},
   "outputs": [
    {
     "name": "stdout",
     "output_type": "stream",
     "text": [
      "Относительная доля людей с тем или иным образованием, получающих >50K \n",
      " education\n",
      " Bachelors       0.283255\n",
      " HS-grad         0.213621\n",
      " Some-college    0.176891\n",
      " Masters         0.122306\n",
      " Prof-school     0.053947\n",
      " Assoc-voc       0.046040\n",
      " Doctorate       0.039026\n",
      " Assoc-acdm      0.033797\n",
      " 10th            0.007907\n",
      " 11th            0.007652\n",
      " 7th-8th         0.005101\n",
      " 12th            0.004209\n",
      " 9th             0.003443\n",
      " 5th-6th         0.002041\n",
      " 1st-4th         0.000765\n",
      "Name: education, dtype: float64\n",
      "Людей с образованием Bachelors or Masters or Doctorate 0.445\n"
     ]
    }
   ],
   "source": [
    "help_df = df.groupby('result')['education'].value_counts(True)[' >50K']\n",
    "print('Относительная доля людей с тем или иным образованием, получающих >50K \\n {}'.format(help_df))\n",
    "print('Людей с образованием Bachelors or Masters or Doctorate {}'.\n",
    "     format(round(help_df[' Bachelors']+help_df[' Masters']+help_df[' Doctorate'], 3)))"
   ]
  },
  {
   "cell_type": "markdown",
   "metadata": {},
   "source": [
    "> Ответ: Нет"
   ]
  },
  {
   "cell_type": "markdown",
   "metadata": {},
   "source": [
    "# Сколько в среднем работают люди в неделю в зависимости от education?"
   ]
  },
  {
   "cell_type": "code",
   "execution_count": 14,
   "metadata": {},
   "outputs": [
    {
     "data": {
      "text/plain": [
       "education\n",
       " 10th            37.052519\n",
       " 11th            33.925957\n",
       " 12th            35.780600\n",
       " 1st-4th         38.255952\n",
       " 5th-6th         38.897898\n",
       " 7th-8th         39.366873\n",
       " 9th             38.044747\n",
       " Assoc-acdm      40.504217\n",
       " Assoc-voc       41.610709\n",
       " Bachelors       42.614006\n",
       " Doctorate       46.973366\n",
       " HS-grad         40.575374\n",
       " Masters         43.836332\n",
       " Preschool       36.647059\n",
       " Prof-school     47.425347\n",
       " Some-college    38.852284\n",
       "Name: hours-per-week, dtype: float64"
      ]
     },
     "execution_count": 14,
     "metadata": {},
     "output_type": "execute_result"
    }
   ],
   "source": [
    "df.groupby('education')['hours-per-week'].mean()"
   ]
  },
  {
   "cell_type": "markdown",
   "metadata": {},
   "source": [
    "# Кто больше работает в неделю - мужчины или женщины?"
   ]
  },
  {
   "cell_type": "code",
   "execution_count": 15,
   "metadata": {},
   "outputs": [
    {
     "name": "stdout",
     "output_type": "stream",
     "text": [
      "В среднем мужчины работают 42.43 часов в неделю\n",
      "В среднем женщины работают 36.41 часов в неделю\n"
     ]
    }
   ],
   "source": [
    "print('В среднем мужчины работают {} часов в неделю'.format(round(df.groupby('sex')['hours-per-week'].mean()[' Male'], 2)))\n",
    "print('В среднем женщины работают {} часов в неделю'.format(round(df.groupby('sex')['hours-per-week'].mean()[' Female'], 3)))"
   ]
  },
  {
   "cell_type": "markdown",
   "metadata": {},
   "source": [
    "> Ответ: Мужчины работают больше."
   ]
  },
  {
   "cell_type": "markdown",
   "metadata": {},
   "source": [
    "# Кто больше работает в неделю - те кто в отношениях или те кто нет?"
   ]
  },
  {
   "cell_type": "code",
   "execution_count": 16,
   "metadata": {
    "scrolled": true
   },
   "outputs": [
    {
     "name": "stdout",
     "output_type": "stream",
     "text": [
      "Среднее кол-во рабочих часов в зависимости от статуса отношений \n",
      " relationship\n",
      " Husband           44.12\n",
      " Not-in-family     40.60\n",
      " Other-relative    37.01\n",
      " Own-child         33.27\n",
      " Unmarried         39.10\n",
      " Wife              36.86\n",
      "Name: hours-per-week, dtype: float64\n",
      "Люди, не состоящие в отношениях, в среднем работают 40.596 часов в неделю\n",
      "Люди, состоящие в отношениях, в среднем работают 38.072 часов в неделю\n"
     ]
    }
   ],
   "source": [
    "print('Среднее кол-во рабочих часов в зависимости от статуса отношений \\n {}'.\n",
    "     format(round(df.groupby('relationship')['hours-per-week'].mean(), 2)))\n",
    "\n",
    "mean_n, mean_y = 0, 0\n",
    "num_n, num_y = 0, 0\n",
    "for i in df.groupby('relationship')['hours-per-week'].mean().index:\n",
    "    if i == ' Not-in-family' or i ==  'Unmarried':\n",
    "        mean_n += df.groupby('relationship')['hours-per-week'].mean()[i]\n",
    "        num_n += 1\n",
    "    else:\n",
    "        mean_y += df.groupby('relationship')['hours-per-week'].mean()[i]\n",
    "        num_y += 1\n",
    "mean_n /= num_n\n",
    "mean_y /= num_y\n",
    "\n",
    "print('Люди, не состоящие в отношениях, в среднем работают {} часов в неделю'.format(round(mean_n, 3)))\n",
    "print('Люди, состоящие в отношениях, в среднем работают {} часов в неделю'.format(round(mean_y, 3)))"
   ]
  },
  {
   "cell_type": "markdown",
   "metadata": {},
   "source": [
    "> Ответ: Люди без отношений в среднем работают больше"
   ]
  },
  {
   "cell_type": "markdown",
   "metadata": {},
   "source": [
    "# Из каких стран люди работают farmers/fishers?"
   ]
  },
  {
   "cell_type": "code",
   "execution_count": 17,
   "metadata": {},
   "outputs": [
    {
     "name": "stdout",
     "output_type": "stream",
     "text": [
      "Количество людей, работающих в Farming-fishing, из различных стран \n",
      " native-country\n",
      " United-States    879\n",
      " Mexico            77\n",
      " ?                  5\n",
      " Puerto-Rico        5\n",
      " Guatemala          4\n",
      " Philippines        4\n",
      " Canada             2\n",
      " Cuba               2\n",
      " El-Salvador        2\n",
      " Italy              2\n",
      " Vietnam            2\n",
      " Cambodia           1\n",
      " England            1\n",
      " France             1\n",
      " Germany            1\n",
      " Hong               1\n",
      " Ireland            1\n",
      " Japan              1\n",
      " Poland             1\n",
      " Portugal           1\n",
      " Yugoslavia         1\n",
      "Name: native-country, dtype: int64\n"
     ]
    }
   ],
   "source": [
    "print('Количество людей, работающих в Farming-fishing, из различных стран \\n {}'.\n",
    "     format(df.groupby('occupation')['native-country'].value_counts()[' Farming-fishing']))\n"
   ]
  },
  {
   "cell_type": "markdown",
   "metadata": {},
   "source": [
    "# Сколько максимум работают люди в неделю? Как много таких людей кто работает наибольшее количество часов? Какой у них доход (распечатать)?"
   ]
  },
  {
   "cell_type": "code",
   "execution_count": 30,
   "metadata": {},
   "outputs": [
    {
     "name": "stdout",
     "output_type": "stream",
     "text": [
      "Максимальное количество рабочих часов в неделю  99\n",
      "Количество человек, работающих столько,  85\n",
      "Из них 60 с доходом <=50К\n",
      "И 25 с доходом >50К\n"
     ]
    }
   ],
   "source": [
    "maximum = df['hours-per-week'].max()\n",
    "print('Максимальное количество рабочих часов в неделю ', maximum)\n",
    "print('Количество человек, работающих столько, ', df['hours-per-week'].value_counts()[maximum])\n",
    "print('Из них {} с доходом <=50К'.format(df.groupby('hours-per-week')['result'].value_counts()[maximum][' <=50K']))\n",
    "print('И {} с доходом >50К'.format(df.groupby('hours-per-week')['result'].value_counts()[maximum][' >50K']))"
   ]
  }
 ],
 "metadata": {
  "kernelspec": {
   "display_name": "Python 3",
   "language": "python",
   "name": "python3"
  },
  "language_info": {
   "codemirror_mode": {
    "name": "ipython",
    "version": 3
   },
   "file_extension": ".py",
   "mimetype": "text/x-python",
   "name": "python",
   "nbconvert_exporter": "python",
   "pygments_lexer": "ipython3",
   "version": "3.7.1"
  }
 },
 "nbformat": 4,
 "nbformat_minor": 2
}
