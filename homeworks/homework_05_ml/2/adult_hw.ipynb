{
 "cells": [
  {
   "cell_type": "code",
   "execution_count": 1,
   "metadata": {
    "ExecuteTime": {
     "end_time": "2019-04-02T10:11:09.014947Z",
     "start_time": "2019-04-02T10:11:08.585672Z"
    }
   },
   "outputs": [],
   "source": [
    "import numpy as np\n",
    "import pandas as pd\n",
    "\n",
    "import matplotlib.pyplot as plt\n",
    "%matplotlib inline"
   ]
  },
  {
   "cell_type": "markdown",
   "metadata": {},
   "source": [
    "# STEP 1. Скачайте датасет.\n",
    "\n",
    "Download the Adult training data set: http://archive.ics.uci.edu/ml/datasets/Adult\n",
    "(file adult.data)"
   ]
  },
  {
   "cell_type": "code",
   "execution_count": 2,
   "metadata": {
    "ExecuteTime": {
     "end_time": "2019-04-02T10:10:52.702808Z",
     "start_time": "2019-04-02T10:09:48.402049Z"
    }
   },
   "outputs": [],
   "source": [
    "# !curl http://archive.ics.uci.edu/ml/machine-learning-databases/adult/adult.data"
   ]
  },
  {
   "cell_type": "code",
   "execution_count": 3,
   "metadata": {
    "ExecuteTime": {
     "end_time": "2019-04-02T10:11:20.117251Z",
     "start_time": "2019-04-02T10:11:19.983901Z"
    },
    "scrolled": true
   },
   "outputs": [],
   "source": [
    "# !head adult.data"
   ]
  },
  {
   "cell_type": "markdown",
   "metadata": {},
   "source": [
    "# Step 2. Поймите формат и зачитайте adult.data в переменную df. Используйте cols чтобы дать нормальные названия колонкам.\n",
    "\n",
    "Обратите внимание на формат!"
   ]
  },
  {
   "cell_type": "code",
   "execution_count": 4,
   "metadata": {
    "ExecuteTime": {
     "end_time": "2019-04-02T10:20:44.038476Z",
     "start_time": "2019-04-02T10:20:44.029507Z"
    }
   },
   "outputs": [],
   "source": [
    "cols = ['age', 'workclass', 'fnlwgt', 'education', 'education-num', 'marital-status', 'occupation', 'relationship', 'race', 'sex', 'capital-gain', 'capital-loss', 'hours-per-week', 'native-country', 'result']"
   ]
  },
  {
   "cell_type": "code",
   "execution_count": 5,
   "metadata": {},
   "outputs": [],
   "source": [
    "df = pd.read_csv(\"adult.data\", sep=\",\", names=cols)\n"
   ]
  },
  {
   "cell_type": "raw",
   "metadata": {
    "ExecuteTime": {
     "end_time": "2019-04-02T10:37:02.277041Z",
     "start_time": "2019-04-02T10:37:02.246550Z"
    }
   },
   "source": [
    "df.head()"
   ]
  },
  {
   "cell_type": "code",
   "execution_count": null,
   "metadata": {},
   "outputs": [],
   "source": []
  },
  {
   "cell_type": "markdown",
   "metadata": {},
   "source": [
    "# Сколько мужчин и женщин?"
   ]
  },
  {
   "cell_type": "code",
   "execution_count": 6,
   "metadata": {},
   "outputs": [
    {
     "data": {
      "text/plain": [
       " Male      21790\n",
       " Female    10771\n",
       "Name: sex, dtype: int64"
      ]
     },
     "execution_count": 6,
     "metadata": {},
     "output_type": "execute_result"
    }
   ],
   "source": [
    "num_of_male_female = df[\"sex\"].value_counts()\n",
    "num_of_male_female"
   ]
  },
  {
   "cell_type": "markdown",
   "metadata": {},
   "source": [
    "# Средний возраст мужчин и женщин?"
   ]
  },
  {
   "cell_type": "code",
   "execution_count": 29,
   "metadata": {},
   "outputs": [
    {
     "data": {
      "text/plain": [
       "sex\n",
       " Female    36.858230\n",
       " Male      39.433547\n",
       "Name: age, dtype: float64"
      ]
     },
     "execution_count": 29,
     "metadata": {},
     "output_type": "execute_result"
    }
   ],
   "source": [
    "average_age = df.groupby(\"sex\")[\"age\"].mean()\n",
    "average_age"
   ]
  },
  {
   "cell_type": "code",
   "execution_count": null,
   "metadata": {},
   "outputs": [],
   "source": []
  },
  {
   "cell_type": "markdown",
   "metadata": {},
   "source": [
    "# Какая доля граждан США (United-States) в данном датасете?"
   ]
  },
  {
   "cell_type": "code",
   "execution_count": 8,
   "metadata": {},
   "outputs": [
    {
     "data": {
      "text/plain": [
       "0.895857006848684"
      ]
     },
     "execution_count": 8,
     "metadata": {},
     "output_type": "execute_result"
    }
   ],
   "source": [
    "part_of_USA = df[\"native-country\"].value_counts()[0] / df[\"native-country\"].count()\n",
    "part_of_USA"
   ]
  },
  {
   "cell_type": "markdown",
   "metadata": {},
   "source": [
    "# Нарисуйте распределние образования людей (используйте bar plot)\n",
    "\n",
    "Подпишите график и оси."
   ]
  },
  {
   "cell_type": "code",
   "execution_count": 9,
   "metadata": {},
   "outputs": [
    {
     "data": {
      "text/plain": [
       "Text(0,0.5,'num')"
      ]
     },
     "execution_count": 9,
     "metadata": {},
     "output_type": "execute_result"
    },
    {
     "data": {
      "image/png": "[encoded data removed]",
      "text/plain": [
       "<Figure size 1296x432 with 1 Axes>"
      ]
     },
     "metadata": {
      "needs_background": "light"
     },
     "output_type": "display_data"
    }
   ],
   "source": [
    "x = list(df[\"education\"].value_counts().keys())\n",
    "y = list(df[\"education\"].value_counts())\n",
    "plt.figure(figsize=(18, 6))\n",
    "plt.bar(x, y)\n",
    "plt.xlabel(\"education\")\n",
    "plt.ylabel(\"num\")"
   ]
  },
  {
   "cell_type": "markdown",
   "metadata": {},
   "source": [
    "# Какое среднее значние и квадратичное отклонение (std) fnlwgt (”final weight”) разведенных (divorced people) людей. Нарисуйте гистрограмму (Какое распределение оно вам напоминает?)"
   ]
  },
  {
   "cell_type": "code",
   "execution_count": 32,
   "metadata": {},
   "outputs": [
    {
     "name": "stdout",
     "output_type": "stream",
     "text": [
      "mean fnlwgt\n",
      "fnlwgt    185802.790457\n",
      "dtype: float64\n",
      "std fnlwgt\n",
      "fnlwgt    105646.789459\n",
      "dtype: float64\n"
     ]
    }
   ],
   "source": [
    "average_fnlwgt = df.loc[df[\"marital-status\"] == \" Divorced\", [\"fnlwgt\"]].mean()\n",
    "std_fnlwgt = df.loc[df[\"marital-status\"] == \" Divorced\", [\"fnlwgt\"]].std()\n",
    "print(\"mean fnlwgt\")\n",
    "print(average_fnlwgt)\n",
    "print(\"std fnlwgt\")\n",
    "print(std_fnlwgt)"
   ]
  },
  {
   "cell_type": "code",
   "execution_count": 28,
   "metadata": {},
   "outputs": [
    {
     "data": {
      "text/plain": [
       "(0, 700000)"
      ]
     },
     "execution_count": 28,
     "metadata": {},
     "output_type": "execute_result"
    },
    {
     "data": {
      "image/png": "[encoded data removed]",
      "text/plain": [
       "<Figure size 432x288 with 1 Axes>"
      ]
     },
     "metadata": {
      "needs_background": "light"
     },
     "output_type": "display_data"
    }
   ],
   "source": [
    "x = list(df[\"fnlwgt\"].loc[df[\"marital-status\"] == \" Divorced\"].keys())\n",
    "y = list(df[\"fnlwgt\"].loc[df[\"marital-status\"] == \" Divorced\"])\n",
    "plt.hist(df[\"fnlwgt\"].loc[df[\"marital-status\"] == \" Divorced\"], bins=100)\n",
    "plt.xlabel(\"fnlwgt\")\n",
    "plt.ylabel(\"num\")\n",
    "plt.xlim(0,700000)"
   ]
  },
  {
   "cell_type": "markdown",
   "metadata": {},
   "source": [
    "> Ответ: оно мне напоминает распределение Пуассона"
   ]
  },
  {
   "cell_type": "markdown",
   "metadata": {},
   "source": [
    "# Правда ли, что большинство людей, из тех кто получает больше 50k, с высшим образованием  (BSc, MSc, PhD - ????)"
   ]
  },
  {
   "cell_type": "code",
   "execution_count": 12,
   "metadata": {},
   "outputs": [
    {
     "data": {
      "text/plain": [
       " Bachelors       0.283255\n",
       " HS-grad         0.213621\n",
       " Some-college    0.176891\n",
       " Masters         0.122306\n",
       " Prof-school     0.053947\n",
       " Assoc-voc       0.046040\n",
       " Doctorate       0.039026\n",
       " Assoc-acdm      0.033797\n",
       " 10th            0.007907\n",
       " 11th            0.007652\n",
       " 7th-8th         0.005101\n",
       " 12th            0.004209\n",
       " 9th             0.003443\n",
       " 5th-6th         0.002041\n",
       " 1st-4th         0.000765\n",
       "Name: education, dtype: float64"
      ]
     },
     "execution_count": 12,
     "metadata": {},
     "output_type": "execute_result"
    }
   ],
   "source": [
    "salary_values = df.loc[df[\"result\"] == \" >50K\"][\"education\"].value_counts(normalize=True)\n",
    "salary_values"
   ]
  },
  {
   "cell_type": "code",
   "execution_count": 13,
   "metadata": {},
   "outputs": [
    {
     "data": {
      "text/plain": [
       "0.4445861497258003"
      ]
     },
     "execution_count": 13,
     "metadata": {},
     "output_type": "execute_result"
    }
   ],
   "source": [
    "salary_values[\" Bachelors\"] + salary_values[\" Masters\"] + salary_values[\" Doctorate\"]"
   ]
  },
  {
   "cell_type": "markdown",
   "metadata": {},
   "source": [
    "> Ответ: Нет."
   ]
  },
  {
   "cell_type": "code",
   "execution_count": null,
   "metadata": {},
   "outputs": [],
   "source": []
  },
  {
   "cell_type": "markdown",
   "metadata": {},
   "source": [
    "# Сколько в среднем работают люди в неделю в зависимости от education?"
   ]
  },
  {
   "cell_type": "code",
   "execution_count": 14,
   "metadata": {},
   "outputs": [
    {
     "data": {
      "text/plain": [
       "education\n",
       " 10th            37.052519\n",
       " 11th            33.925957\n",
       " 12th            35.780600\n",
       " 1st-4th         38.255952\n",
       " 5th-6th         38.897898\n",
       " 7th-8th         39.366873\n",
       " 9th             38.044747\n",
       " Assoc-acdm      40.504217\n",
       " Assoc-voc       41.610709\n",
       " Bachelors       42.614006\n",
       " Doctorate       46.973366\n",
       " HS-grad         40.575374\n",
       " Masters         43.836332\n",
       " Preschool       36.647059\n",
       " Prof-school     47.425347\n",
       " Some-college    38.852284\n",
       "Name: hours-per-week, dtype: float64"
      ]
     },
     "execution_count": 14,
     "metadata": {},
     "output_type": "execute_result"
    }
   ],
   "source": [
    "df.groupby(\"education\")[\"hours-per-week\"].mean()"
   ]
  },
  {
   "cell_type": "markdown",
   "metadata": {},
   "source": [
    "# Кто больше работает в неделю - мужчины или женщины?"
   ]
  },
  {
   "cell_type": "code",
   "execution_count": 15,
   "metadata": {},
   "outputs": [
    {
     "data": {
      "text/plain": [
       "sex\n",
       " Female    36.410361\n",
       " Male      42.428086\n",
       "Name: hours-per-week, dtype: float64"
      ]
     },
     "execution_count": 15,
     "metadata": {},
     "output_type": "execute_result"
    }
   ],
   "source": [
    "df.groupby(\"sex\")[\"hours-per-week\"].mean()"
   ]
  },
  {
   "cell_type": "markdown",
   "metadata": {},
   "source": [
    "# Кто больше работает в неделю - те кто в отношениях или те кто нет?"
   ]
  },
  {
   "cell_type": "code",
   "execution_count": 22,
   "metadata": {},
   "outputs": [
    {
     "name": "stdout",
     "output_type": "stream",
     "text": [
      "В отношениях: 37.81429995882061\n",
      "Те, кто нет: 39.849341626882534\n"
     ]
    }
   ],
   "source": [
    "work_time_relation = df.groupby(\"relationship\")[\"hours-per-week\"].mean()\n",
    "print(\"В отношениях: \" + str((work_time_relation[\" Husband\"] + work_time_relation[\" Wife\"] + \n",
    "                              work_time_relation[\" Own-child\"] + work_time_relation[\" Other-relative\"])/4))\n",
    "print(\"Те, кто нет: \" + str((work_time_relation[\" Unmarried\"] + work_time_relation[\" Not-in-family\"])/2))"
   ]
  },
  {
   "cell_type": "code",
   "execution_count": 23,
   "metadata": {},
   "outputs": [
    {
     "name": "stdout",
     "output_type": "stream",
     "text": [
      "В отношениях: 41.36171567038986\n",
      "Те кто нет: 37.61700018166202\n"
     ]
    }
   ],
   "source": [
    "work_time_marital = df.groupby(\"marital-status\")[\"hours-per-week\"].mean()\n",
    "print(\"В отношениях: {}\".format((work_time_marital[\" Married-AF-spouse\"] + work_time_marital[\" Married-civ-spouse\"] + \n",
    "                                work_time_marital[\" Married-spouse-absent\"])/3))\n",
    "print(\"Те кто нет: {}\".format((work_time_marital[\" Divorced\"] + work_time_marital[\" Never-married\"] +\n",
    "                               work_time_marital[\" Separated\"] + work_time_marital[\" Widowed\"])/4))"
   ]
  },
  {
   "cell_type": "markdown",
   "metadata": {},
   "source": [
    "# Из каких стран люди работают farmers/fishers?"
   ]
  },
  {
   "cell_type": "code",
   "execution_count": 18,
   "metadata": {},
   "outputs": [
    {
     "data": {
      "text/plain": [
       "native-country\n",
       " United-States    879\n",
       " Mexico            77\n",
       " ?                  5\n",
       " Puerto-Rico        5\n",
       " Guatemala          4\n",
       " Philippines        4\n",
       " Canada             2\n",
       " Cuba               2\n",
       " El-Salvador        2\n",
       " Italy              2\n",
       " Vietnam            2\n",
       " Cambodia           1\n",
       " England            1\n",
       " France             1\n",
       " Germany            1\n",
       " Hong               1\n",
       " Ireland            1\n",
       " Japan              1\n",
       " Poland             1\n",
       " Portugal           1\n",
       " Yugoslavia         1\n",
       "Name: native-country, dtype: int64"
      ]
     },
     "execution_count": 18,
     "metadata": {},
     "output_type": "execute_result"
    }
   ],
   "source": [
    "df.groupby(\"occupation\")[\"native-country\"].value_counts()[\" Farming-fishing\"]"
   ]
  },
  {
   "cell_type": "markdown",
   "metadata": {},
   "source": [
    "# Сколько максимум работают люди в неделю? Как много таких людей кто работает наибольшее количество часов? Какой у них доход (распечатать)?"
   ]
  },
  {
   "cell_type": "code",
   "execution_count": 19,
   "metadata": {},
   "outputs": [
    {
     "data": {
      "text/plain": [
       "99"
      ]
     },
     "execution_count": 19,
     "metadata": {},
     "output_type": "execute_result"
    }
   ],
   "source": [
    "df[\"hours-per-week\"].max()"
   ]
  },
  {
   "cell_type": "code",
   "execution_count": 20,
   "metadata": {},
   "outputs": [
    {
     "data": {
      "text/plain": [
       "85"
      ]
     },
     "execution_count": 20,
     "metadata": {},
     "output_type": "execute_result"
    }
   ],
   "source": [
    "len(df[df[\"hours-per-week\"] == df[\"hours-per-week\"].max()])"
   ]
  },
  {
   "cell_type": "code",
   "execution_count": 21,
   "metadata": {},
   "outputs": [
    {
     "name": "stdout",
     "output_type": "stream",
     "text": [
      " <=50K    60\n",
      " >50K     25\n",
      "Name: result, dtype: int64\n"
     ]
    }
   ],
   "source": [
    "print(df[df[\"hours-per-week\"] == df[\"hours-per-week\"].max()][\"result\"].value_counts())"
   ]
  },
  {
   "cell_type": "code",
   "execution_count": null,
   "metadata": {},
   "outputs": [],
   "source": []
  }
 ],
 "metadata": {
  "kernelspec": {
   "display_name": "Python 3",
   "language": "python",
   "name": "python3"
  },
  "language_info": {
   "codemirror_mode": {
    "name": "ipython",
    "version": 3
   },
   "file_extension": ".py",
   "mimetype": "text/x-python",
   "name": "python",
   "nbconvert_exporter": "python",
   "pygments_lexer": "ipython3",
   "version": "3.7.2"
  }
 },
 "nbformat": 4,
 "nbformat_minor": 2
}
