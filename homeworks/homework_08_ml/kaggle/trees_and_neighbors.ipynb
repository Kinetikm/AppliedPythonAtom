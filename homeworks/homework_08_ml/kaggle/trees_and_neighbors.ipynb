{
 "cells": [
  {
   "cell_type": "code",
   "execution_count": 1,
   "metadata": {
    "ExecuteTime": {
     "end_time": "2019-04-23T13:29:53.035641Z",
     "start_time": "2019-04-23T13:29:52.428582Z"
    }
   },
   "outputs": [],
   "source": [
    "import numpy as np\n",
    "import pandas as pd\n",
    "import matplotlib.pyplot as plt\n",
    "\n",
    "%matplotlib inline"
   ]
  },
  {
   "cell_type": "code",
   "execution_count": 2,
   "metadata": {
    "ExecuteTime": {
     "end_time": "2019-04-23T13:29:54.814646Z",
     "start_time": "2019-04-23T13:29:53.037797Z"
    }
   },
   "outputs": [],
   "source": [
    "data_train = pd.read_csv('kagle_train.csv.zip', sep=',', parse_dates=['start_time'])\n",
    "data_test = pd.read_csv('regr_test.csv.zip', sep=',', parse_dates=['start_time'])\n",
    "idx = data_test['id'].values"
   ]
  },
  {
   "cell_type": "code",
   "execution_count": 3,
   "metadata": {
    "ExecuteTime": {
     "end_time": "2019-04-23T13:30:04.445696Z",
     "start_time": "2019-04-23T13:30:04.218521Z"
    }
   },
   "outputs": [
    {
     "data": {
      "text/html": [
       "<div>\n",
       "<style scoped>\n",
       "    .dataframe tbody tr th:only-of-type {\n",
       "        vertical-align: middle;\n",
       "    }\n",
       "\n",
       "    .dataframe tbody tr th {\n",
       "        vertical-align: top;\n",
       "    }\n",
       "\n",
       "    .dataframe thead th {\n",
       "        text-align: right;\n",
       "    }\n",
       "</style>\n",
       "<table border=\"1\" class=\"dataframe\">\n",
       "  <thead>\n",
       "    <tr style=\"text-align: right;\">\n",
       "      <th></th>\n",
       "      <th>id</th>\n",
       "      <th>price</th>\n",
       "      <th>item_id</th>\n",
       "      <th>item_views</th>\n",
       "    </tr>\n",
       "  </thead>\n",
       "  <tbody>\n",
       "    <tr>\n",
       "      <th>count</th>\n",
       "      <td>376687.000000</td>\n",
       "      <td>3.766870e+05</td>\n",
       "      <td>3.766870e+05</td>\n",
       "      <td>376687.000000</td>\n",
       "    </tr>\n",
       "    <tr>\n",
       "      <th>mean</th>\n",
       "      <td>211784.700144</td>\n",
       "      <td>2.465498e+05</td>\n",
       "      <td>4.606439e+18</td>\n",
       "      <td>3.483459</td>\n",
       "    </tr>\n",
       "    <tr>\n",
       "      <th>std</th>\n",
       "      <td>122355.459807</td>\n",
       "      <td>1.126163e+07</td>\n",
       "      <td>2.663233e+18</td>\n",
       "      <td>1.019757</td>\n",
       "    </tr>\n",
       "    <tr>\n",
       "      <th>min</th>\n",
       "      <td>0.000000</td>\n",
       "      <td>0.000000e+00</td>\n",
       "      <td>6.694595e+13</td>\n",
       "      <td>0.000000</td>\n",
       "    </tr>\n",
       "    <tr>\n",
       "      <th>25%</th>\n",
       "      <td>105786.500000</td>\n",
       "      <td>5.000000e+02</td>\n",
       "      <td>2.296781e+18</td>\n",
       "      <td>2.708050</td>\n",
       "    </tr>\n",
       "    <tr>\n",
       "      <th>50%</th>\n",
       "      <td>211758.000000</td>\n",
       "      <td>2.000000e+03</td>\n",
       "      <td>4.606254e+18</td>\n",
       "      <td>3.367296</td>\n",
       "    </tr>\n",
       "    <tr>\n",
       "      <th>75%</th>\n",
       "      <td>317745.500000</td>\n",
       "      <td>9.990000e+03</td>\n",
       "      <td>6.912617e+18</td>\n",
       "      <td>4.094345</td>\n",
       "    </tr>\n",
       "    <tr>\n",
       "      <th>max</th>\n",
       "      <td>423771.000000</td>\n",
       "      <td>5.677568e+09</td>\n",
       "      <td>9.223325e+18</td>\n",
       "      <td>8.328693</td>\n",
       "    </tr>\n",
       "  </tbody>\n",
       "</table>\n",
       "</div>"
      ],
      "text/plain": [
       "                  id         price       item_id     item_views\n",
       "count  376687.000000  3.766870e+05  3.766870e+05  376687.000000\n",
       "mean   211784.700144  2.465498e+05  4.606439e+18       3.483459\n",
       "std    122355.459807  1.126163e+07  2.663233e+18       1.019757\n",
       "min         0.000000  0.000000e+00  6.694595e+13       0.000000\n",
       "25%    105786.500000  5.000000e+02  2.296781e+18       2.708050\n",
       "50%    211758.000000  2.000000e+03  4.606254e+18       3.367296\n",
       "75%    317745.500000  9.990000e+03  6.912617e+18       4.094345\n",
       "max    423771.000000  5.677568e+09  9.223325e+18       8.328693"
      ]
     },
     "execution_count": 3,
     "metadata": {},
     "output_type": "execute_result"
    }
   ],
   "source": [
    "data_train.describe()"
   ]
  },
  {
   "cell_type": "code",
   "execution_count": 4,
   "metadata": {
    "ExecuteTime": {
     "end_time": "2019-04-23T13:30:04.681164Z",
     "start_time": "2019-04-23T13:30:04.447970Z"
    }
   },
   "outputs": [
    {
     "name": "stdout",
     "output_type": "stream",
     "text": [
      "<class 'pandas.core.frame.DataFrame'>\n",
      "RangeIndex: 376687 entries, 0 to 376686\n",
      "Data columns (total 13 columns):\n",
      "id             376687 non-null int64\n",
      "start_time     376687 non-null datetime64[ns]\n",
      "title          376687 non-null object\n",
      "price          376687 non-null int64\n",
      "item_id        376687 non-null int64\n",
      "owner_type     376687 non-null object\n",
      "category       376687 non-null object\n",
      "subcategory    376687 non-null object\n",
      "param1         361456 non-null object\n",
      "param2         196112 non-null object\n",
      "param3         147746 non-null object\n",
      "region         376687 non-null object\n",
      "item_views     376687 non-null float64\n",
      "dtypes: datetime64[ns](1), float64(1), int64(3), object(8)\n",
      "memory usage: 37.4+ MB\n"
     ]
    }
   ],
   "source": [
    "data_train.info()"
   ]
  },
  {
   "cell_type": "markdown",
   "metadata": {},
   "source": [
    "### Препроцессинг"
   ]
  },
  {
   "cell_type": "code",
   "execution_count": 5,
   "metadata": {
    "ExecuteTime": {
     "end_time": "2019-04-23T13:30:04.946237Z",
     "start_time": "2019-04-23T13:30:04.682917Z"
    }
   },
   "outputs": [],
   "source": [
    "data_train = data_train.fillna('nan')\n",
    "data_test = data_test.fillna('nan')"
   ]
  },
  {
   "cell_type": "code",
   "execution_count": 6,
   "metadata": {
    "ExecuteTime": {
     "end_time": "2019-04-23T13:30:05.148561Z",
     "start_time": "2019-04-23T13:30:04.947744Z"
    }
   },
   "outputs": [
    {
     "data": {
      "text/plain": [
       "False"
      ]
     },
     "execution_count": 6,
     "metadata": {},
     "output_type": "execute_result"
    }
   ],
   "source": [
    "np.any(data_train.isna())"
   ]
  },
  {
   "cell_type": "code",
   "execution_count": 7,
   "metadata": {
    "ExecuteTime": {
     "end_time": "2019-04-23T13:30:06.844306Z",
     "start_time": "2019-04-23T13:30:05.150767Z"
    }
   },
   "outputs": [],
   "source": [
    "f = lambda x: (x.hour * 60 + x.minute) / (24 * 60)\n",
    "data_train['relative_time'] = data_train.start_time.apply(f)\n",
    "data_test['relative_time'] = data_test.start_time.apply(f)"
   ]
  },
  {
   "cell_type": "code",
   "execution_count": 8,
   "metadata": {
    "ExecuteTime": {
     "end_time": "2019-04-23T13:30:09.959985Z",
     "start_time": "2019-04-23T13:30:08.431651Z"
    }
   },
   "outputs": [],
   "source": [
    "data_train['time_to_end'] = data_train.start_time.apply(lambda x: 24 - x.hour)\n",
    "data_test['time_to_end'] = data_test.start_time.apply(lambda x: 24 - x.hour)"
   ]
  },
  {
   "cell_type": "code",
   "execution_count": 9,
   "metadata": {
    "ExecuteTime": {
     "end_time": "2019-04-23T13:30:13.112614Z",
     "start_time": "2019-04-23T13:30:11.546273Z"
    }
   },
   "outputs": [],
   "source": [
    "data_train['slided_hours'] = data_train.start_time.apply(lambda x: ((x.hour - 3.5) % 24) * 1. / 24.)\n",
    "data_test['slided_hours'] = data_test.start_time.apply(lambda x: ((x.hour - 3.5) % 24) * 1. / 24.)"
   ]
  },
  {
   "cell_type": "code",
   "execution_count": 10,
   "metadata": {
    "ExecuteTime": {
     "end_time": "2019-04-23T13:30:14.689948Z",
     "start_time": "2019-04-23T13:30:14.685892Z"
    }
   },
   "outputs": [],
   "source": [
    "def make_harmonic_features(value, period=24):\n",
    "    value = (value / period) * 2 * np.pi\n",
    "    return np.cos(value), np.sin(value)"
   ]
  },
  {
   "cell_type": "code",
   "execution_count": 11,
   "metadata": {
    "ExecuteTime": {
     "end_time": "2019-04-23T13:30:19.703048Z",
     "start_time": "2019-04-23T13:30:14.692560Z"
    }
   },
   "outputs": [],
   "source": [
    "data_train['cos_time'] = data_train.start_time.apply(lambda x: make_harmonic_features(x.hour + x.minute / 60)[0])\n",
    "data_train['sin_time'] = data_train.start_time.apply(lambda x: make_harmonic_features(x.hour + x.minute / 60)[1])\n",
    "\n",
    "data_test['cos_time'] = data_test.start_time.apply(lambda x: make_harmonic_features(x.hour + x.minute / 60)[0])\n",
    "data_test['sin_time'] = data_test.start_time.apply(lambda x: make_harmonic_features(x.hour + x.minute / 60)[1])"
   ]
  },
  {
   "cell_type": "code",
   "execution_count": 12,
   "metadata": {
    "ExecuteTime": {
     "end_time": "2019-04-23T13:30:21.166827Z",
     "start_time": "2019-04-23T13:30:19.704553Z"
    }
   },
   "outputs": [],
   "source": [
    "data_train['week_day'] = data_train.start_time.apply(lambda x: x.isoweekday())\n",
    "data_test['week_day'] = data_test.start_time.apply(lambda x: x.isoweekday())"
   ]
  },
  {
   "cell_type": "code",
   "execution_count": 13,
   "metadata": {
    "ExecuteTime": {
     "end_time": "2019-04-23T13:30:21.278398Z",
     "start_time": "2019-04-23T13:30:21.198958Z"
    }
   },
   "outputs": [],
   "source": [
    "data_train = data_train.drop(['start_time'], axis=1)\n",
    "data_test = data_test.drop(['start_time'], axis=1)"
   ]
  },
  {
   "cell_type": "code",
   "execution_count": 14,
   "metadata": {},
   "outputs": [
    {
     "data": {
      "text/html": [
       "<div>\n",
       "<style scoped>\n",
       "    .dataframe tbody tr th:only-of-type {\n",
       "        vertical-align: middle;\n",
       "    }\n",
       "\n",
       "    .dataframe tbody tr th {\n",
       "        vertical-align: top;\n",
       "    }\n",
       "\n",
       "    .dataframe thead th {\n",
       "        text-align: right;\n",
       "    }\n",
       "</style>\n",
       "<table border=\"1\" class=\"dataframe\">\n",
       "  <thead>\n",
       "    <tr style=\"text-align: right;\">\n",
       "      <th></th>\n",
       "      <th>id</th>\n",
       "      <th>title</th>\n",
       "      <th>price</th>\n",
       "      <th>item_id</th>\n",
       "      <th>owner_type</th>\n",
       "      <th>category</th>\n",
       "      <th>subcategory</th>\n",
       "      <th>param1</th>\n",
       "      <th>param2</th>\n",
       "      <th>param3</th>\n",
       "      <th>region</th>\n",
       "      <th>item_views</th>\n",
       "      <th>relative_time</th>\n",
       "      <th>time_to_end</th>\n",
       "      <th>slided_hours</th>\n",
       "      <th>cos_time</th>\n",
       "      <th>sin_time</th>\n",
       "      <th>week_day</th>\n",
       "    </tr>\n",
       "  </thead>\n",
       "  <tbody>\n",
       "    <tr>\n",
       "      <th>0</th>\n",
       "      <td>328853</td>\n",
       "      <td>Сандали фирмы Crocs</td>\n",
       "      <td>800</td>\n",
       "      <td>1301822498390501359</td>\n",
       "      <td>Private</td>\n",
       "      <td>Личные вещи</td>\n",
       "      <td>Детская одежда и обувь</td>\n",
       "      <td>Для мальчиков</td>\n",
       "      <td>Обувь</td>\n",
       "      <td>&gt; 36</td>\n",
       "      <td>Москва</td>\n",
       "      <td>3.332205</td>\n",
       "      <td>0.443056</td>\n",
       "      <td>14</td>\n",
       "      <td>0.270833</td>\n",
       "      <td>-0.936672</td>\n",
       "      <td>0.350207</td>\n",
       "      <td>2</td>\n",
       "    </tr>\n",
       "    <tr>\n",
       "      <th>1</th>\n",
       "      <td>257639</td>\n",
       "      <td>Бутсы футбольные Reebok</td>\n",
       "      <td>2000</td>\n",
       "      <td>4439620035274845039</td>\n",
       "      <td>Private</td>\n",
       "      <td>Личные вещи</td>\n",
       "      <td>Детская одежда и обувь</td>\n",
       "      <td>Для мальчиков</td>\n",
       "      <td>Обувь</td>\n",
       "      <td>&gt; 36</td>\n",
       "      <td>Омская область</td>\n",
       "      <td>2.302585</td>\n",
       "      <td>0.640972</td>\n",
       "      <td>9</td>\n",
       "      <td>0.479167</td>\n",
       "      <td>-0.632705</td>\n",
       "      <td>-0.774393</td>\n",
       "      <td>2</td>\n",
       "    </tr>\n",
       "    <tr>\n",
       "      <th>2</th>\n",
       "      <td>140732</td>\n",
       "      <td>Nike hypervenom Бутсы</td>\n",
       "      <td>600</td>\n",
       "      <td>4860577743813309218</td>\n",
       "      <td>Private</td>\n",
       "      <td>Личные вещи</td>\n",
       "      <td>Детская одежда и обувь</td>\n",
       "      <td>Для мальчиков</td>\n",
       "      <td>Обувь</td>\n",
       "      <td>&gt; 36</td>\n",
       "      <td>Санкт-Петербург</td>\n",
       "      <td>4.663439</td>\n",
       "      <td>0.815278</td>\n",
       "      <td>5</td>\n",
       "      <td>0.645833</td>\n",
       "      <td>0.398749</td>\n",
       "      <td>-0.917060</td>\n",
       "      <td>3</td>\n",
       "    </tr>\n",
       "    <tr>\n",
       "      <th>3</th>\n",
       "      <td>3080</td>\n",
       "      <td>Сапоги</td>\n",
       "      <td>150</td>\n",
       "      <td>3492530336858889466</td>\n",
       "      <td>Private</td>\n",
       "      <td>Личные вещи</td>\n",
       "      <td>Детская одежда и обувь</td>\n",
       "      <td>Для мальчиков</td>\n",
       "      <td>Обувь</td>\n",
       "      <td>&gt; 36</td>\n",
       "      <td>Тульская область</td>\n",
       "      <td>3.367296</td>\n",
       "      <td>0.434722</td>\n",
       "      <td>14</td>\n",
       "      <td>0.270833</td>\n",
       "      <td>-0.917060</td>\n",
       "      <td>0.398749</td>\n",
       "      <td>1</td>\n",
       "    </tr>\n",
       "    <tr>\n",
       "      <th>4</th>\n",
       "      <td>325394</td>\n",
       "      <td>Кеды 38</td>\n",
       "      <td>500</td>\n",
       "      <td>3559049054931858928</td>\n",
       "      <td>Private</td>\n",
       "      <td>Личные вещи</td>\n",
       "      <td>Детская одежда и обувь</td>\n",
       "      <td>Для мальчиков</td>\n",
       "      <td>Обувь</td>\n",
       "      <td>&gt; 36</td>\n",
       "      <td>Самарская область</td>\n",
       "      <td>2.302585</td>\n",
       "      <td>0.714583</td>\n",
       "      <td>7</td>\n",
       "      <td>0.562500</td>\n",
       "      <td>-0.220697</td>\n",
       "      <td>-0.975342</td>\n",
       "      <td>1</td>\n",
       "    </tr>\n",
       "  </tbody>\n",
       "</table>\n",
       "</div>"
      ],
      "text/plain": [
       "       id                    title  price              item_id owner_type  \\\n",
       "0  328853      Сандали фирмы Crocs    800  1301822498390501359    Private   \n",
       "1  257639  Бутсы футбольные Reebok   2000  4439620035274845039    Private   \n",
       "2  140732    Nike hypervenom Бутсы    600  4860577743813309218    Private   \n",
       "3    3080                   Сапоги    150  3492530336858889466    Private   \n",
       "4  325394                  Кеды 38    500  3559049054931858928    Private   \n",
       "\n",
       "      category             subcategory         param1 param2 param3  \\\n",
       "0  Личные вещи  Детская одежда и обувь  Для мальчиков  Обувь   > 36   \n",
       "1  Личные вещи  Детская одежда и обувь  Для мальчиков  Обувь   > 36   \n",
       "2  Личные вещи  Детская одежда и обувь  Для мальчиков  Обувь   > 36   \n",
       "3  Личные вещи  Детская одежда и обувь  Для мальчиков  Обувь   > 36   \n",
       "4  Личные вещи  Детская одежда и обувь  Для мальчиков  Обувь   > 36   \n",
       "\n",
       "              region  item_views  relative_time  time_to_end  slided_hours  \\\n",
       "0             Москва    3.332205       0.443056           14      0.270833   \n",
       "1     Омская область    2.302585       0.640972            9      0.479167   \n",
       "2    Санкт-Петербург    4.663439       0.815278            5      0.645833   \n",
       "3   Тульская область    3.367296       0.434722           14      0.270833   \n",
       "4  Самарская область    2.302585       0.714583            7      0.562500   \n",
       "\n",
       "   cos_time  sin_time  week_day  \n",
       "0 -0.936672  0.350207         2  \n",
       "1 -0.632705 -0.774393         2  \n",
       "2  0.398749 -0.917060         3  \n",
       "3 -0.917060  0.398749         1  \n",
       "4 -0.220697 -0.975342         1  "
      ]
     },
     "execution_count": 14,
     "metadata": {},
     "output_type": "execute_result"
    }
   ],
   "source": [
    "data_train.head()"
   ]
  },
  {
   "cell_type": "code",
   "execution_count": 15,
   "metadata": {},
   "outputs": [],
   "source": [
    "def count_upletters(x):\n",
    "    res = 0\n",
    "    for letter in x:\n",
    "        if letter.isupper():\n",
    "            res += 1\n",
    "    return res"
   ]
  },
  {
   "cell_type": "code",
   "execution_count": 16,
   "metadata": {},
   "outputs": [],
   "source": [
    "data_train['upcase'] = data_train['title'].apply(count_upletters)\n",
    "data_test['upcase'] = data_test['title'].apply(count_upletters)"
   ]
  },
  {
   "cell_type": "code",
   "execution_count": 17,
   "metadata": {},
   "outputs": [],
   "source": [
    "data_train['title_len'] = data_train['title'].apply(len)\n",
    "data_test['title_len'] = data_test['title'].apply(len)"
   ]
  },
  {
   "cell_type": "code",
   "execution_count": 18,
   "metadata": {},
   "outputs": [
    {
     "data": {
      "text/html": [
       "<div>\n",
       "<style scoped>\n",
       "    .dataframe tbody tr th:only-of-type {\n",
       "        vertical-align: middle;\n",
       "    }\n",
       "\n",
       "    .dataframe tbody tr th {\n",
       "        vertical-align: top;\n",
       "    }\n",
       "\n",
       "    .dataframe thead th {\n",
       "        text-align: right;\n",
       "    }\n",
       "</style>\n",
       "<table border=\"1\" class=\"dataframe\">\n",
       "  <thead>\n",
       "    <tr style=\"text-align: right;\">\n",
       "      <th></th>\n",
       "      <th>id</th>\n",
       "      <th>title</th>\n",
       "      <th>price</th>\n",
       "      <th>item_id</th>\n",
       "      <th>owner_type</th>\n",
       "      <th>category</th>\n",
       "      <th>subcategory</th>\n",
       "      <th>param1</th>\n",
       "      <th>param2</th>\n",
       "      <th>param3</th>\n",
       "      <th>region</th>\n",
       "      <th>item_views</th>\n",
       "      <th>relative_time</th>\n",
       "      <th>time_to_end</th>\n",
       "      <th>slided_hours</th>\n",
       "      <th>cos_time</th>\n",
       "      <th>sin_time</th>\n",
       "      <th>week_day</th>\n",
       "      <th>upcase</th>\n",
       "      <th>title_len</th>\n",
       "    </tr>\n",
       "  </thead>\n",
       "  <tbody>\n",
       "    <tr>\n",
       "      <th>0</th>\n",
       "      <td>328853</td>\n",
       "      <td>Сандали фирмы Crocs</td>\n",
       "      <td>800</td>\n",
       "      <td>1301822498390501359</td>\n",
       "      <td>Private</td>\n",
       "      <td>Личные вещи</td>\n",
       "      <td>Детская одежда и обувь</td>\n",
       "      <td>Для мальчиков</td>\n",
       "      <td>Обувь</td>\n",
       "      <td>&gt; 36</td>\n",
       "      <td>Москва</td>\n",
       "      <td>3.332205</td>\n",
       "      <td>0.443056</td>\n",
       "      <td>14</td>\n",
       "      <td>0.270833</td>\n",
       "      <td>-0.936672</td>\n",
       "      <td>0.350207</td>\n",
       "      <td>2</td>\n",
       "      <td>2</td>\n",
       "      <td>19</td>\n",
       "    </tr>\n",
       "    <tr>\n",
       "      <th>1</th>\n",
       "      <td>257639</td>\n",
       "      <td>Бутсы футбольные Reebok</td>\n",
       "      <td>2000</td>\n",
       "      <td>4439620035274845039</td>\n",
       "      <td>Private</td>\n",
       "      <td>Личные вещи</td>\n",
       "      <td>Детская одежда и обувь</td>\n",
       "      <td>Для мальчиков</td>\n",
       "      <td>Обувь</td>\n",
       "      <td>&gt; 36</td>\n",
       "      <td>Омская область</td>\n",
       "      <td>2.302585</td>\n",
       "      <td>0.640972</td>\n",
       "      <td>9</td>\n",
       "      <td>0.479167</td>\n",
       "      <td>-0.632705</td>\n",
       "      <td>-0.774393</td>\n",
       "      <td>2</td>\n",
       "      <td>2</td>\n",
       "      <td>23</td>\n",
       "    </tr>\n",
       "    <tr>\n",
       "      <th>2</th>\n",
       "      <td>140732</td>\n",
       "      <td>Nike hypervenom Бутсы</td>\n",
       "      <td>600</td>\n",
       "      <td>4860577743813309218</td>\n",
       "      <td>Private</td>\n",
       "      <td>Личные вещи</td>\n",
       "      <td>Детская одежда и обувь</td>\n",
       "      <td>Для мальчиков</td>\n",
       "      <td>Обувь</td>\n",
       "      <td>&gt; 36</td>\n",
       "      <td>Санкт-Петербург</td>\n",
       "      <td>4.663439</td>\n",
       "      <td>0.815278</td>\n",
       "      <td>5</td>\n",
       "      <td>0.645833</td>\n",
       "      <td>0.398749</td>\n",
       "      <td>-0.917060</td>\n",
       "      <td>3</td>\n",
       "      <td>2</td>\n",
       "      <td>21</td>\n",
       "    </tr>\n",
       "    <tr>\n",
       "      <th>3</th>\n",
       "      <td>3080</td>\n",
       "      <td>Сапоги</td>\n",
       "      <td>150</td>\n",
       "      <td>3492530336858889466</td>\n",
       "      <td>Private</td>\n",
       "      <td>Личные вещи</td>\n",
       "      <td>Детская одежда и обувь</td>\n",
       "      <td>Для мальчиков</td>\n",
       "      <td>Обувь</td>\n",
       "      <td>&gt; 36</td>\n",
       "      <td>Тульская область</td>\n",
       "      <td>3.367296</td>\n",
       "      <td>0.434722</td>\n",
       "      <td>14</td>\n",
       "      <td>0.270833</td>\n",
       "      <td>-0.917060</td>\n",
       "      <td>0.398749</td>\n",
       "      <td>1</td>\n",
       "      <td>1</td>\n",
       "      <td>6</td>\n",
       "    </tr>\n",
       "    <tr>\n",
       "      <th>4</th>\n",
       "      <td>325394</td>\n",
       "      <td>Кеды 38</td>\n",
       "      <td>500</td>\n",
       "      <td>3559049054931858928</td>\n",
       "      <td>Private</td>\n",
       "      <td>Личные вещи</td>\n",
       "      <td>Детская одежда и обувь</td>\n",
       "      <td>Для мальчиков</td>\n",
       "      <td>Обувь</td>\n",
       "      <td>&gt; 36</td>\n",
       "      <td>Самарская область</td>\n",
       "      <td>2.302585</td>\n",
       "      <td>0.714583</td>\n",
       "      <td>7</td>\n",
       "      <td>0.562500</td>\n",
       "      <td>-0.220697</td>\n",
       "      <td>-0.975342</td>\n",
       "      <td>1</td>\n",
       "      <td>1</td>\n",
       "      <td>7</td>\n",
       "    </tr>\n",
       "  </tbody>\n",
       "</table>\n",
       "</div>"
      ],
      "text/plain": [
       "       id                    title  price              item_id owner_type  \\\n",
       "0  328853      Сандали фирмы Crocs    800  1301822498390501359    Private   \n",
       "1  257639  Бутсы футбольные Reebok   2000  4439620035274845039    Private   \n",
       "2  140732    Nike hypervenom Бутсы    600  4860577743813309218    Private   \n",
       "3    3080                   Сапоги    150  3492530336858889466    Private   \n",
       "4  325394                  Кеды 38    500  3559049054931858928    Private   \n",
       "\n",
       "      category             subcategory         param1 param2 param3  \\\n",
       "0  Личные вещи  Детская одежда и обувь  Для мальчиков  Обувь   > 36   \n",
       "1  Личные вещи  Детская одежда и обувь  Для мальчиков  Обувь   > 36   \n",
       "2  Личные вещи  Детская одежда и обувь  Для мальчиков  Обувь   > 36   \n",
       "3  Личные вещи  Детская одежда и обувь  Для мальчиков  Обувь   > 36   \n",
       "4  Личные вещи  Детская одежда и обувь  Для мальчиков  Обувь   > 36   \n",
       "\n",
       "              region  item_views  relative_time  time_to_end  slided_hours  \\\n",
       "0             Москва    3.332205       0.443056           14      0.270833   \n",
       "1     Омская область    2.302585       0.640972            9      0.479167   \n",
       "2    Санкт-Петербург    4.663439       0.815278            5      0.645833   \n",
       "3   Тульская область    3.367296       0.434722           14      0.270833   \n",
       "4  Самарская область    2.302585       0.714583            7      0.562500   \n",
       "\n",
       "   cos_time  sin_time  week_day  upcase  title_len  \n",
       "0 -0.936672  0.350207         2       2         19  \n",
       "1 -0.632705 -0.774393         2       2         23  \n",
       "2  0.398749 -0.917060         3       2         21  \n",
       "3 -0.917060  0.398749         1       1          6  \n",
       "4 -0.220697 -0.975342         1       1          7  "
      ]
     },
     "execution_count": 18,
     "metadata": {},
     "output_type": "execute_result"
    }
   ],
   "source": [
    "data_train.head()"
   ]
  },
  {
   "cell_type": "markdown",
   "metadata": {},
   "source": [
    "##### текст"
   ]
  },
  {
   "cell_type": "code",
   "execution_count": 19,
   "metadata": {
    "ExecuteTime": {
     "end_time": "2019-04-23T13:30:33.490675Z",
     "start_time": "2019-04-23T13:30:33.458952Z"
    }
   },
   "outputs": [],
   "source": [
    "# !pip install pymorphy2\n",
    "\n",
    "import re\n",
    "import pymorphy2\n",
    "from functools import lru_cache"
   ]
  },
  {
   "cell_type": "code",
   "execution_count": 20,
   "metadata": {
    "ExecuteTime": {
     "end_time": "2019-04-23T13:30:35.135963Z",
     "start_time": "2019-04-23T13:30:35.031892Z"
    }
   },
   "outputs": [],
   "source": [
    "morph = pymorphy2.MorphAnalyzer()"
   ]
  },
  {
   "cell_type": "code",
   "execution_count": 21,
   "metadata": {
    "ExecuteTime": {
     "end_time": "2019-04-23T13:32:31.977169Z",
     "start_time": "2019-04-23T13:32:31.944608Z"
    }
   },
   "outputs": [],
   "source": [
    "@lru_cache(maxsize=1000000) # с кешом!\n",
    "def get_normal_form(i):\n",
    "    return morph.normal_forms(i)[0]\n",
    "\n",
    "def normalize_text(x):\n",
    "    return ' '.join([get_normal_form(i) for i in re.findall('\\w+', x)])\n",
    "\n",
    "def del_numbers(x):\n",
    "    return ''.join([i for i in x if not i.isdigit()])\n",
    "\n",
    "def rem_spaces(x):\n",
    "    return re.sub(' +', ' ', x).strip()\n",
    "\n",
    "def rem_punctuation(x):\n",
    "    return re.sub('[^A-Za-zА-Яа-я0-9 ]+', '', x)\n",
    "\n",
    "def get_good_text(x):\n",
    "    return rem_punctuation(rem_spaces(del_numbers(normalize_text(x))))"
   ]
  },
  {
   "cell_type": "code",
   "execution_count": 22,
   "metadata": {
    "ExecuteTime": {
     "end_time": "2019-04-23T13:32:32.457166Z",
     "start_time": "2019-04-23T13:32:32.445634Z"
    }
   },
   "outputs": [
    {
     "data": {
      "text/plain": [
       "'детский одежда и обувь'"
      ]
     },
     "execution_count": 22,
     "metadata": {},
     "output_type": "execute_result"
    }
   ],
   "source": [
    "get_good_text('Детская одежда135131354313513 и об161увь')"
   ]
  },
  {
   "cell_type": "code",
   "execution_count": 23,
   "metadata": {
    "ExecuteTime": {
     "end_time": "2019-04-23T13:33:30.142757Z",
     "start_time": "2019-04-23T13:33:17.769320Z"
    }
   },
   "outputs": [
    {
     "name": "stdout",
     "output_type": "stream",
     "text": [
      "Wall time: 53.6 s\n"
     ]
    }
   ],
   "source": [
    "%%time\n",
    "\n",
    "data_train['title'] = data_train['title'].apply(lambda x: get_good_text(x))\n",
    "data_train['category'] = data_train['category'].apply(lambda x: get_good_text(x))\n",
    "data_train['subcategory'] = data_train['subcategory'].apply(lambda x: get_good_text(x))\n",
    "\n",
    "data_test['title'] = data_test['title'].apply(lambda x: get_good_text(x))\n",
    "data_test['category'] = data_test['category'].apply(lambda x: get_good_text(x))\n",
    "data_test['subcategory'] = data_test['subcategory'].apply(lambda x: get_good_text(x))"
   ]
  },
  {
   "cell_type": "code",
   "execution_count": 24,
   "metadata": {},
   "outputs": [],
   "source": [
    "data_train['fast_bait'] = data_train['title'].apply(lambda x: x.count('срочн'))\n",
    "data_train['delivery_bait'] = data_train['title'].apply(lambda x: x.count('достав'))\n",
    "data_train['free_bait'] = data_train['title'].apply(lambda x: x.count('беспл') + x.count('дар'))\n",
    "\n",
    "data_test['fast_bait'] = data_test['title'].apply(lambda x: x.count('срочн'))\n",
    "data_test['delivery_bait'] = data_test['title'].apply(lambda x: x.count('достав'))\n",
    "data_test['free_bait'] = data_test['title'].apply(lambda x: x.count('беспл') + x.count('дар'))"
   ]
  },
  {
   "cell_type": "markdown",
   "metadata": {},
   "source": [
    "##### Куча категориальных признаков"
   ]
  },
  {
   "cell_type": "code",
   "execution_count": 25,
   "metadata": {
    "ExecuteTime": {
     "end_time": "2019-04-23T13:34:01.974125Z",
     "start_time": "2019-04-23T13:34:01.970782Z"
    }
   },
   "outputs": [],
   "source": [
    "pd.options.display.max_columns = 50"
   ]
  },
  {
   "cell_type": "code",
   "execution_count": 26,
   "metadata": {
    "ExecuteTime": {
     "end_time": "2019-04-23T13:34:12.171190Z",
     "start_time": "2019-04-23T13:34:12.159653Z"
    }
   },
   "outputs": [
    {
     "data": {
      "text/plain": [
       "Index(['id', 'title', 'price', 'item_id', 'owner_type', 'category',\n",
       "       'subcategory', 'param1', 'param2', 'param3', 'region', 'item_views',\n",
       "       'relative_time', 'time_to_end', 'slided_hours', 'cos_time', 'sin_time',\n",
       "       'week_day', 'upcase', 'title_len', 'fast_bait', 'delivery_bait',\n",
       "       'free_bait'],\n",
       "      dtype='object')"
      ]
     },
     "execution_count": 26,
     "metadata": {},
     "output_type": "execute_result"
    }
   ],
   "source": [
    "data_train.columns"
   ]
  },
  {
   "cell_type": "code",
   "execution_count": 27,
   "metadata": {},
   "outputs": [],
   "source": [
    "str_cols = ['title',\n",
    "            'param1', 'param2', 'param3'\n",
    "           ]"
   ]
  },
  {
   "cell_type": "code",
   "execution_count": 28,
   "metadata": {},
   "outputs": [],
   "source": [
    "from sklearn.preprocessing import LabelEncoder\n",
    "from sklearn.feature_extraction.text import TfidfVectorizer\n",
    "\n",
    "vec = TfidfVectorizer(max_features=1000)\n",
    "enc = LabelEncoder()"
   ]
  },
  {
   "cell_type": "code",
   "execution_count": 29,
   "metadata": {},
   "outputs": [],
   "source": [
    "title_train = vec.fit_transform(data_train['title'])\n",
    "title_test = vec.transform(data_test['title'])"
   ]
  },
  {
   "cell_type": "code",
   "execution_count": 30,
   "metadata": {},
   "outputs": [],
   "source": [
    "data_train['owner_type'] = enc.fit_transform(data_train['owner_type'])\n",
    "data_test['owner_type'] = enc.transform(data_test['owner_type'])\n",
    "\n",
    "data_train['category'] = enc.fit_transform(data_train['category'])\n",
    "data_test['category'] = enc.transform(data_test['category'])\n",
    "\n",
    "data_train['subcategory'] = enc.fit_transform(data_train['subcategory'])\n",
    "data_test['subcategory'] = enc.transform(data_test['subcategory'])\n",
    "\n",
    "data_train['region'] = enc.fit_transform(data_train['region'])\n",
    "data_test['region'] = enc.transform(data_test['region'])"
   ]
  },
  {
   "cell_type": "code",
   "execution_count": 31,
   "metadata": {},
   "outputs": [],
   "source": [
    "data_train.drop(columns=str_cols, inplace=True)\n",
    "data_test.drop(columns=str_cols, inplace=True)"
   ]
  },
  {
   "cell_type": "code",
   "execution_count": 32,
   "metadata": {},
   "outputs": [],
   "source": [
    "data_train, y = data_train.drop(['item_views', 'id', 'item_id'], axis=1), data_train['item_views'].values\n",
    "data_test = data_test.drop(['id', 'item_id'], axis=1)"
   ]
  },
  {
   "cell_type": "code",
   "execution_count": 33,
   "metadata": {},
   "outputs": [
    {
     "data": {
      "text/html": [
       "<div>\n",
       "<style scoped>\n",
       "    .dataframe tbody tr th:only-of-type {\n",
       "        vertical-align: middle;\n",
       "    }\n",
       "\n",
       "    .dataframe tbody tr th {\n",
       "        vertical-align: top;\n",
       "    }\n",
       "\n",
       "    .dataframe thead th {\n",
       "        text-align: right;\n",
       "    }\n",
       "</style>\n",
       "<table border=\"1\" class=\"dataframe\">\n",
       "  <thead>\n",
       "    <tr style=\"text-align: right;\">\n",
       "      <th></th>\n",
       "      <th>price</th>\n",
       "      <th>owner_type</th>\n",
       "      <th>category</th>\n",
       "      <th>subcategory</th>\n",
       "      <th>region</th>\n",
       "      <th>relative_time</th>\n",
       "      <th>time_to_end</th>\n",
       "      <th>slided_hours</th>\n",
       "      <th>cos_time</th>\n",
       "      <th>sin_time</th>\n",
       "      <th>week_day</th>\n",
       "      <th>upcase</th>\n",
       "      <th>title_len</th>\n",
       "      <th>fast_bait</th>\n",
       "      <th>delivery_bait</th>\n",
       "      <th>free_bait</th>\n",
       "    </tr>\n",
       "  </thead>\n",
       "  <tbody>\n",
       "    <tr>\n",
       "      <th>0</th>\n",
       "      <td>800</td>\n",
       "      <td>1</td>\n",
       "      <td>4</td>\n",
       "      <td>11</td>\n",
       "      <td>40</td>\n",
       "      <td>0.443056</td>\n",
       "      <td>14</td>\n",
       "      <td>0.270833</td>\n",
       "      <td>-0.936672</td>\n",
       "      <td>0.350207</td>\n",
       "      <td>2</td>\n",
       "      <td>2</td>\n",
       "      <td>19</td>\n",
       "      <td>0</td>\n",
       "      <td>0</td>\n",
       "      <td>0</td>\n",
       "    </tr>\n",
       "    <tr>\n",
       "      <th>1</th>\n",
       "      <td>2000</td>\n",
       "      <td>1</td>\n",
       "      <td>4</td>\n",
       "      <td>11</td>\n",
       "      <td>47</td>\n",
       "      <td>0.640972</td>\n",
       "      <td>9</td>\n",
       "      <td>0.479167</td>\n",
       "      <td>-0.632705</td>\n",
       "      <td>-0.774393</td>\n",
       "      <td>2</td>\n",
       "      <td>2</td>\n",
       "      <td>23</td>\n",
       "      <td>0</td>\n",
       "      <td>0</td>\n",
       "      <td>0</td>\n",
       "    </tr>\n",
       "    <tr>\n",
       "      <th>2</th>\n",
       "      <td>600</td>\n",
       "      <td>1</td>\n",
       "      <td>4</td>\n",
       "      <td>11</td>\n",
       "      <td>58</td>\n",
       "      <td>0.815278</td>\n",
       "      <td>5</td>\n",
       "      <td>0.645833</td>\n",
       "      <td>0.398749</td>\n",
       "      <td>-0.917060</td>\n",
       "      <td>3</td>\n",
       "      <td>2</td>\n",
       "      <td>21</td>\n",
       "      <td>0</td>\n",
       "      <td>0</td>\n",
       "      <td>0</td>\n",
       "    </tr>\n",
       "    <tr>\n",
       "      <th>3</th>\n",
       "      <td>150</td>\n",
       "      <td>1</td>\n",
       "      <td>4</td>\n",
       "      <td>11</td>\n",
       "      <td>70</td>\n",
       "      <td>0.434722</td>\n",
       "      <td>14</td>\n",
       "      <td>0.270833</td>\n",
       "      <td>-0.917060</td>\n",
       "      <td>0.398749</td>\n",
       "      <td>1</td>\n",
       "      <td>1</td>\n",
       "      <td>6</td>\n",
       "      <td>0</td>\n",
       "      <td>0</td>\n",
       "      <td>0</td>\n",
       "    </tr>\n",
       "    <tr>\n",
       "      <th>4</th>\n",
       "      <td>500</td>\n",
       "      <td>1</td>\n",
       "      <td>4</td>\n",
       "      <td>11</td>\n",
       "      <td>57</td>\n",
       "      <td>0.714583</td>\n",
       "      <td>7</td>\n",
       "      <td>0.562500</td>\n",
       "      <td>-0.220697</td>\n",
       "      <td>-0.975342</td>\n",
       "      <td>1</td>\n",
       "      <td>1</td>\n",
       "      <td>7</td>\n",
       "      <td>0</td>\n",
       "      <td>0</td>\n",
       "      <td>0</td>\n",
       "    </tr>\n",
       "  </tbody>\n",
       "</table>\n",
       "</div>"
      ],
      "text/plain": [
       "   price  owner_type  category  subcategory  region  relative_time  \\\n",
       "0    800           1         4           11      40       0.443056   \n",
       "1   2000           1         4           11      47       0.640972   \n",
       "2    600           1         4           11      58       0.815278   \n",
       "3    150           1         4           11      70       0.434722   \n",
       "4    500           1         4           11      57       0.714583   \n",
       "\n",
       "   time_to_end  slided_hours  cos_time  sin_time  week_day  upcase  title_len  \\\n",
       "0           14      0.270833 -0.936672  0.350207         2       2         19   \n",
       "1            9      0.479167 -0.632705 -0.774393         2       2         23   \n",
       "2            5      0.645833  0.398749 -0.917060         3       2         21   \n",
       "3           14      0.270833 -0.917060  0.398749         1       1          6   \n",
       "4            7      0.562500 -0.220697 -0.975342         1       1          7   \n",
       "\n",
       "   fast_bait  delivery_bait  free_bait  \n",
       "0          0              0          0  \n",
       "1          0              0          0  \n",
       "2          0              0          0  \n",
       "3          0              0          0  \n",
       "4          0              0          0  "
      ]
     },
     "execution_count": 33,
     "metadata": {},
     "output_type": "execute_result"
    }
   ],
   "source": [
    "data_train.head()"
   ]
  },
  {
   "cell_type": "code",
   "execution_count": 34,
   "metadata": {},
   "outputs": [
    {
     "data": {
      "text/plain": [
       "<matplotlib.collections.PathCollection at 0x2c41045e2b0>"
      ]
     },
     "execution_count": 34,
     "metadata": {},
     "output_type": "execute_result"
    },
    {
     "data": {
      "image/png": "[encoded data removed]",
      "text/plain": [
       "<Figure size 432x288 with 1 Axes>"
      ]
     },
     "metadata": {
      "needs_background": "light"
     },
     "output_type": "display_data"
    }
   ],
   "source": [
    "from sklearn.manifold import TSNE\n",
    "\n",
    "\n",
    "tsne = TSNE(n_components=2)\n",
    "mask = np.random.choice(data_train.shape[0], 500, replace=False)\n",
    "res = tsne.fit_transform(data_train.iloc[mask, :])\n",
    "\n",
    "plt.scatter(res[:, 0], res[:, 1], marker='.')"
   ]
  },
  {
   "cell_type": "code",
   "execution_count": 35,
   "metadata": {},
   "outputs": [],
   "source": [
    "from sklearn.model_selection import train_test_split\n",
    "\n",
    "X_train, X_test, y_train, y_test = train_test_split(data_train, y, random_state=11)"
   ]
  },
  {
   "cell_type": "code",
   "execution_count": 36,
   "metadata": {
    "ExecuteTime": {
     "end_time": "2019-04-23T13:37:45.763674Z",
     "start_time": "2019-04-23T13:37:45.756743Z"
    }
   },
   "outputs": [],
   "source": [
    "from sklearn.neighbors import KNeighborsRegressor\n",
    "from sklearn.tree import DecisionTreeRegressor\n",
    "from sklearn.metrics import mean_squared_error as mse\n",
    "from sklearn.metrics import make_scorer\n",
    "from sklearn.model_selection import KFold, cross_val_score"
   ]
  },
  {
   "cell_type": "markdown",
   "metadata": {},
   "source": [
    "соседи очень долго работают, поэтому для них не стал делать TfIdf"
   ]
  },
  {
   "cell_type": "code",
   "execution_count": 38,
   "metadata": {},
   "outputs": [
    {
     "name": "stdout",
     "output_type": "stream",
     "text": [
      "n neighbors: 5, score: 0.8109340291533212\n",
      "n neighbors: 10, score: 0.790121328117759\n",
      "n neighbors: 15, score: 0.7871839529553646\n",
      "n neighbors: 20, score: 0.78747434341775\n",
      "n neighbors: 25, score: 0.7893598355508751\n"
     ]
    }
   ],
   "source": [
    "scores = []\n",
    "cv = KFold(n_splits=5, shuffle=True, random_state=11)\n",
    "for neighbors in range(5, 26, 5):\n",
    "    knnr = KNeighborsRegressor(n_neighbors=neighbors)\n",
    "    cvs = cross_val_score(knnr, X_train, y_train, \n",
    "                          scoring=make_scorer(mse), cv=cv)\n",
    "    scores.append((neighbors, np.sqrt(cvs.mean())))\n",
    "    print(f'n neighbors: {neighbors}, score: {np.sqrt(cvs.mean())}')"
   ]
  },
  {
   "cell_type": "code",
   "execution_count": 37,
   "metadata": {},
   "outputs": [],
   "source": [
    "knnr = KNeighborsRegressor(n_neighbors=15)\n",
    "knnr.fit(data_train, y)\n",
    "preds = knnr.predict(data_test)"
   ]
  },
  {
   "cell_type": "code",
   "execution_count": 38,
   "metadata": {},
   "outputs": [
    {
     "data": {
      "text/html": [
       "<div>\n",
       "<style scoped>\n",
       "    .dataframe tbody tr th:only-of-type {\n",
       "        vertical-align: middle;\n",
       "    }\n",
       "\n",
       "    .dataframe tbody tr th {\n",
       "        vertical-align: top;\n",
       "    }\n",
       "\n",
       "    .dataframe thead th {\n",
       "        text-align: right;\n",
       "    }\n",
       "</style>\n",
       "<table border=\"1\" class=\"dataframe\">\n",
       "  <thead>\n",
       "    <tr style=\"text-align: right;\">\n",
       "      <th></th>\n",
       "      <th>id</th>\n",
       "      <th>item_views</th>\n",
       "    </tr>\n",
       "  </thead>\n",
       "  <tbody>\n",
       "    <tr>\n",
       "      <th>0</th>\n",
       "      <td>161539</td>\n",
       "      <td>2.902237</td>\n",
       "    </tr>\n",
       "    <tr>\n",
       "      <th>1</th>\n",
       "      <td>72401</td>\n",
       "      <td>2.895781</td>\n",
       "    </tr>\n",
       "    <tr>\n",
       "      <th>2</th>\n",
       "      <td>387692</td>\n",
       "      <td>2.728663</td>\n",
       "    </tr>\n",
       "    <tr>\n",
       "      <th>3</th>\n",
       "      <td>163041</td>\n",
       "      <td>2.293596</td>\n",
       "    </tr>\n",
       "    <tr>\n",
       "      <th>4</th>\n",
       "      <td>367881</td>\n",
       "      <td>2.856330</td>\n",
       "    </tr>\n",
       "  </tbody>\n",
       "</table>\n",
       "</div>"
      ],
      "text/plain": [
       "       id  item_views\n",
       "0  161539    2.902237\n",
       "1   72401    2.895781\n",
       "2  387692    2.728663\n",
       "3  163041    2.293596\n",
       "4  367881    2.856330"
      ]
     },
     "execution_count": 38,
     "metadata": {},
     "output_type": "execute_result"
    }
   ],
   "source": [
    "pd.DataFrame({'id': idx, 'item_views': preds}).to_csv('out_KNN.csv', index=None)\n",
    "pd.read_csv('out_KNN.csv').head()"
   ]
  },
  {
   "cell_type": "code",
   "execution_count": 39,
   "metadata": {},
   "outputs": [],
   "source": [
    "import scipy.sparse as sp\n",
    "\n",
    "data_train = sp.hstack([data_train.to_dense(), title_train])\n",
    "data_test = sp.hstack([data_test.to_dense(), title_test])\n",
    "\n",
    "X_train, X_test, y_train, y_test = train_test_split(data_train, y, random_state=11)"
   ]
  },
  {
   "cell_type": "code",
   "execution_count": 89,
   "metadata": {},
   "outputs": [
    {
     "name": "stdout",
     "output_type": "stream",
     "text": [
      "depth: 5, score: 0.763891528520009\n",
      "depth: 10, score: 0.6930219924352431\n",
      "depth: 15, score: 0.6824313562130172\n",
      "depth: 20, score: 0.7080018389080907\n",
      "depth: 25, score: 0.7413408765300221\n"
     ]
    }
   ],
   "source": [
    "scores = []\n",
    "for depth in range(5, 26, 5):\n",
    "    dtr = DecisionTreeRegressor(max_depth=depth)\n",
    "    cvs = cross_val_score(dtr, X_train, y_train, \n",
    "                          scoring=make_scorer(mse), cv=cv)\n",
    "    scores.append((neighbors, np.sqrt(cvs.mean())))\n",
    "    print(f'depth: {depth}, score: {np.sqrt(cvs.mean())}')"
   ]
  },
  {
   "cell_type": "code",
   "execution_count": 40,
   "metadata": {},
   "outputs": [],
   "source": [
    "dtr = DecisionTreeRegressor(max_depth=15)\n",
    "dtr.fit(data_train, y)\n",
    "preds = dtr.predict(data_test)"
   ]
  },
  {
   "cell_type": "code",
   "execution_count": 41,
   "metadata": {},
   "outputs": [
    {
     "data": {
      "text/html": [
       "<div>\n",
       "<style scoped>\n",
       "    .dataframe tbody tr th:only-of-type {\n",
       "        vertical-align: middle;\n",
       "    }\n",
       "\n",
       "    .dataframe tbody tr th {\n",
       "        vertical-align: top;\n",
       "    }\n",
       "\n",
       "    .dataframe thead th {\n",
       "        text-align: right;\n",
       "    }\n",
       "</style>\n",
       "<table border=\"1\" class=\"dataframe\">\n",
       "  <thead>\n",
       "    <tr style=\"text-align: right;\">\n",
       "      <th></th>\n",
       "      <th>id</th>\n",
       "      <th>item_views</th>\n",
       "    </tr>\n",
       "  </thead>\n",
       "  <tbody>\n",
       "    <tr>\n",
       "      <th>0</th>\n",
       "      <td>161539</td>\n",
       "      <td>2.636913</td>\n",
       "    </tr>\n",
       "    <tr>\n",
       "      <th>1</th>\n",
       "      <td>72401</td>\n",
       "      <td>2.636913</td>\n",
       "    </tr>\n",
       "    <tr>\n",
       "      <th>2</th>\n",
       "      <td>387692</td>\n",
       "      <td>2.723664</td>\n",
       "    </tr>\n",
       "    <tr>\n",
       "      <th>3</th>\n",
       "      <td>163041</td>\n",
       "      <td>2.535869</td>\n",
       "    </tr>\n",
       "    <tr>\n",
       "      <th>4</th>\n",
       "      <td>367881</td>\n",
       "      <td>2.636913</td>\n",
       "    </tr>\n",
       "  </tbody>\n",
       "</table>\n",
       "</div>"
      ],
      "text/plain": [
       "       id  item_views\n",
       "0  161539    2.636913\n",
       "1   72401    2.636913\n",
       "2  387692    2.723664\n",
       "3  163041    2.535869\n",
       "4  367881    2.636913"
      ]
     },
     "execution_count": 41,
     "metadata": {},
     "output_type": "execute_result"
    }
   ],
   "source": [
    "pd.DataFrame({'id': idx, 'item_views': preds}).to_csv('out_tree.csv', index=None)\n",
    "pd.read_csv('out_tree.csv').head()"
   ]
  },
  {
   "cell_type": "code",
   "execution_count": null,
   "metadata": {},
   "outputs": [],
   "source": []
  }
 ],
 "metadata": {
  "kernelspec": {
   "display_name": "Python 3",
   "language": "python",
   "name": "python3"
  },
  "language_info": {
   "codemirror_mode": {
    "name": "ipython",
    "version": 3
   },
   "file_extension": ".py",
   "mimetype": "text/x-python",
   "name": "python",
   "nbconvert_exporter": "python",
   "pygments_lexer": "ipython3",
   "version": "3.7.2"
  }
 },
 "nbformat": 4,
 "nbformat_minor": 2
}
