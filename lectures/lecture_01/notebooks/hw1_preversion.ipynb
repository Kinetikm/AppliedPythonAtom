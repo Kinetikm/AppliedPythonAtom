{
 "cells": [
  {
   "cell_type": "code",
   "execution_count": 162,
   "metadata": {},
   "outputs": [],
   "source": [
    "def calculator(a, b, operator):\n",
    "    if a.isdigit() & b.isdigit():\n",
    "        c=float(a)\n",
    "        d=float(b)\n",
    "        if operator == \"plus\":\n",
    "            return c+d\n",
    "        if operator == \"minus\":\n",
    "            return c-d\n",
    "        if operator == \"divide\":\n",
    "            return c/d\n",
    "        if operator == \"mult\":\n",
    "            return c*d\n",
    "    raise NotImplementedError "
   ]
  },
  {
   "cell_type": "code",
   "execution_count": 163,
   "metadata": {},
   "outputs": [],
   "source": [
    "assert calculator(\"18\", \"12\", \"minus\") == 6.0\n",
    "assert calculator(\"1\", \"12\", \"plus\") == 13.0\n",
    "assert calculator(\"16\", \"12\", \"mult\") == 192.0"
   ]
  },
  {
   "cell_type": "code",
   "execution_count": 164,
   "metadata": {},
   "outputs": [
    {
     "ename": "NotImplementedError",
     "evalue": "",
     "output_type": "error",
     "traceback": [
      "\u001b[1;31m---------------------------------------------------------------------------\u001b[0m",
      "\u001b[1;31mNotImplementedError\u001b[0m                       Traceback (most recent call last)",
      "\u001b[1;32m<ipython-input-164-f94eeb51ee04>\u001b[0m in \u001b[0;36m<module>\u001b[1;34m()\u001b[0m\n\u001b[1;32m----> 1\u001b[1;33m \u001b[1;32massert\u001b[0m \u001b[0mcalculator\u001b[0m\u001b[1;33m(\u001b[0m\u001b[1;34m\"dbdbdb\"\u001b[0m\u001b[1;33m,\u001b[0m\u001b[1;34m\"12\"\u001b[0m\u001b[1;33m,\u001b[0m\u001b[1;34m\"plus\"\u001b[0m\u001b[1;33m)\u001b[0m\u001b[1;33m\u001b[0m\u001b[0m\n\u001b[0m",
      "\u001b[1;32m<ipython-input-162-9607484dd090>\u001b[0m in \u001b[0;36mcalculator\u001b[1;34m(a, b, operator)\u001b[0m\n\u001b[0;32m     11\u001b[0m         \u001b[1;32mif\u001b[0m \u001b[0moperator\u001b[0m \u001b[1;33m==\u001b[0m \u001b[1;34m\"mult\"\u001b[0m\u001b[1;33m:\u001b[0m\u001b[1;33m\u001b[0m\u001b[0m\n\u001b[0;32m     12\u001b[0m             \u001b[1;32mreturn\u001b[0m \u001b[0mc\u001b[0m\u001b[1;33m*\u001b[0m\u001b[0md\u001b[0m\u001b[1;33m\u001b[0m\u001b[0m\n\u001b[1;32m---> 13\u001b[1;33m     \u001b[1;32mraise\u001b[0m \u001b[0mNotImplementedError\u001b[0m\u001b[1;33m\u001b[0m\u001b[0m\n\u001b[0m",
      "\u001b[1;31mNotImplementedError\u001b[0m: "
     ]
    }
   ],
   "source": [
    "assert calculator(\"dbdbdb\",\"12\",\"plus\")"
   ]
  },
  {
   "cell_type": "code",
   "execution_count": 152,
   "metadata": {},
   "outputs": [],
   "source": [
    "#!/usr/bin/env python\n",
    "# coding: utf-8\n",
    "\n",
    "\n",
    "def check_palindrom(input_string):\n",
    "    '''\n",
    "    Метод проверяющий строку на то, является ли\n",
    "    она палиндромом.\n",
    "    :param input_string: строка\n",
    "    :return: True, если строка являестя палиндромом\n",
    "    False иначе\n",
    "    '''\n",
    "    if input_string == input_string[::-1]:\n",
    "        return True\n",
    "    else:\n",
    "        return False\n",
    "    raise NotImplementedError"
   ]
  },
  {
   "cell_type": "code",
   "execution_count": 158,
   "metadata": {},
   "outputs": [],
   "source": [
    "#!/usr/bin/env python\n",
    "# coding: utf-8\n",
    "\n",
    "\n",
    "def check_palindrom(input_string):\n",
    "    '''\n",
    "    Метод проверяющий строку на то, является ли\n",
    "    она палиндромом.\n",
    "    :param input_string: строка\n",
    "    :return: True, если строка являестя палиндромом\n",
    "    False иначе\n",
    "    '''\n",
    "    return (input_string == input_string[::-1])\n",
    "    raise NotImplementedError"
   ]
  },
  {
   "cell_type": "code",
   "execution_count": 159,
   "metadata": {},
   "outputs": [],
   "source": [
    "assert check_palindrom(\"ghth\") == False\n",
    "assert check_palindrom(\"ghthg\") == True\n",
    "assert check_palindrom(\"15687\") == False"
   ]
  },
  {
   "cell_type": "code",
   "execution_count": 254,
   "metadata": {},
   "outputs": [],
   "source": [
    "#!/usr/bin/env python\n",
    "# coding: utf-8\n",
    "\n",
    "\n",
    "def reverse(number):\n",
    "    '''\n",
    "    Метод, принимающий на вход int и\n",
    "    возвращающий инвертированный int\n",
    "    :param number: исходное число\n",
    "    :return: инвертированное число\n",
    "    '''\n",
    "    if (number[0] == \"+\")or(number[0] == \"-\") :\n",
    "        a = number[0]\n",
    "        b = number[len(number):0:-1]\n",
    "        return print (int(a+b))\n",
    "    else: return  print (int(number[::-1]))\n",
    "    raise NotImplementedError"
   ]
  },
  {
   "cell_type": "code",
   "execution_count": 255,
   "metadata": {},
   "outputs": [
    {
     "name": "stdout",
     "output_type": "stream",
     "text": [
      "321\n"
     ]
    },
    {
     "ename": "AssertionError",
     "evalue": "",
     "output_type": "error",
     "traceback": [
      "\u001b[1;31m---------------------------------------------------------------------------\u001b[0m",
      "\u001b[1;31mAssertionError\u001b[0m                            Traceback (most recent call last)",
      "\u001b[1;32m<ipython-input-255-347e1657098e>\u001b[0m in \u001b[0;36m<module>\u001b[1;34m()\u001b[0m\n\u001b[1;32m----> 1\u001b[1;33m \u001b[1;32massert\u001b[0m \u001b[0mreverse\u001b[0m\u001b[1;33m(\u001b[0m\u001b[1;34m\"123\"\u001b[0m\u001b[1;33m)\u001b[0m\u001b[1;33m\u001b[0m\u001b[0m\n\u001b[0m",
      "\u001b[1;31mAssertionError\u001b[0m: "
     ]
    }
   ],
   "source": [
    "assert reverse(\"123\") "
   ]
  },
  {
   "cell_type": "code",
   "execution_count": 305,
   "metadata": {},
   "outputs": [],
   "source": [
    "#!/usr/bin/env python\n",
    "# coding: utf-8\n",
    "\n",
    "\n",
    "def find_indices(input_list, n):\n",
    "    '''\n",
    "    Метод возвращает индексы двух различных\n",
    "    элементов listа, таких, что сумма этих элементов равна\n",
    "    n. В случае, если таких элементов в массиве нет,\n",
    "    то возвращается None\n",
    "    Ограничение по времени O(n)\n",
    "    :param input_list: список произвольной длины целых чисел\n",
    "    :param n: целевая сумма\n",
    "    :return: tuple из двух индексов или None\n",
    "    '''\n",
    "    a = tuple(input_list) \n",
    "    for i in range(len(a)):\n",
    "        c = n-a[i]\n",
    "        if a.count(c)>0:\n",
    "            return (a.index(a[i]),a.index(c))\n",
    "        else: \"None\"\n",
    "    raise NotImplementedError"
   ]
  },
  {
   "cell_type": "code",
   "execution_count": 306,
   "metadata": {},
   "outputs": [],
   "source": [
    "assert find_indices([5,8,9,4,2],7)"
   ]
  },
  {
   "cell_type": "code",
   "execution_count": null,
   "metadata": {},
   "outputs": [],
   "source": [
    "#!/usr/bin/env python\n",
    "# coding: utf-8\n",
    "\n",
    "\n",
    "def is_bracket_correct(input_string):\n",
    "    '''\n",
    "    Метод проверяющий является ли поданная скобочная\n",
    "     последовательность правильной (скобки открываются и закрываются)\n",
    "     не пересекаются\n",
    "    :param input_string: строка, содержащая 6 типов скобок (,),[,],{,}\n",
    "    :return: True or False\n",
    "    '''\n",
    "    raise NotImplementedError\n"
   ]
  },
  {
   "cell_type": "code",
   "execution_count": null,
   "metadata": {},
   "outputs": [],
   "source": []
  }
 ],
 "metadata": {
  "kernelspec": {
   "display_name": "Python 3",
   "language": "python",
   "name": "python3"
  },
  "language_info": {
   "codemirror_mode": {
    "name": "ipython",
    "version": 3
   },
   "file_extension": ".py",
   "mimetype": "text/x-python",
   "name": "python",
   "nbconvert_exporter": "python",
   "pygments_lexer": "ipython3",
   "version": "3.6.5"
  }
 },
 "nbformat": 4,
 "nbformat_minor": 2
}
