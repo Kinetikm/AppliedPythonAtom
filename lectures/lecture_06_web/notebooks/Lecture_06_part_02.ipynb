{
 "cells": [
  {
   "cell_type": "markdown",
   "metadata": {},
   "source": [
    "# Журналирование"
   ]
  },
  {
   "cell_type": "code",
   "execution_count": 10,
   "metadata": {},
   "outputs": [],
   "source": [
    "# Конфигурация журналирования\n",
    "LOGGING = {\n",
    "    'version': 1,\n",
    "    'formatters': {  # Форматирование сообщения\n",
    "        'simple': {\n",
    "            'format': '[%(asctime)s] %(levelname)s %(module)s %(message)s',\n",
    "            'datefmt': '%Y-%m-%d %H:%M:%S'\n",
    "        },\n",
    "    },\n",
    "\n",
    "    'handlers': {  # Обработчикаи сообщений\n",
    "        'api_log_handler': {\n",
    "            'class': 'logging.FileHandler',\n",
    "            'filename': '/tmp/api_log.text',\n",
    "        },\n",
    "        'streamlogger': {\n",
    "            'class': 'logging.StreamHandler',\n",
    "            'formatter': 'simple',\n",
    "        },\n",
    "    },\n",
    "\n",
    "    'loggers': {   # Логгеры\n",
    "        'api_logger': {\n",
    "            'handlers': ['api_log_handler', 'streamlogger'],\n",
    "            'level': 'INFO',\n",
    "        },\n",
    "        'debbug_logger': {\n",
    "            'handlers': ['streamlogger'],\n",
    "            'level': 'DEBUG',\n",
    "        },\n",
    "    },\n",
    "}\n",
    "\n",
    "\n",
    "\n",
    "import logging.config\n",
    "logging.config.dictConfig(LOGGING)"
   ]
  },
  {
   "cell_type": "code",
   "execution_count": 12,
   "metadata": {},
   "outputs": [
    {
     "name": "stderr",
     "output_type": "stream",
     "text": [
      "[2019-04-03 11:09:04] INFO <ipython-input-12-0a07842c6fef> api_logger: info message\n",
      "[2019-04-03 11:09:04] INFO <ipython-input-12-0a07842c6fef> debbug_logger: info message\n",
      "[2019-04-03 11:09:04] DEBUG <ipython-input-12-0a07842c6fef> debbug_logger: debug message\n"
     ]
    }
   ],
   "source": [
    "# Использование логгеров\n",
    "import logging\n",
    "\n",
    "api_logger = logging.getLogger('api_logger')\n",
    "api_logger.info('api_logger: info message')\n",
    "api_logger.debug('api_logger: debug message')\n",
    "\n",
    "debbug_logger = logging.getLogger('debbug_logger')\n",
    "debbug_logger.info('debbug_logger: info message')\n",
    "debbug_logger.debug('debbug_logger: debug message')"
   ]
  },
  {
   "cell_type": "markdown",
   "metadata": {},
   "source": [
    "# Работа со временем"
   ]
  },
  {
   "cell_type": "code",
   "execution_count": 21,
   "metadata": {},
   "outputs": [
    {
     "data": {
      "text/plain": [
       "10.001611948013306"
      ]
     },
     "execution_count": 21,
     "metadata": {},
     "output_type": "execute_result"
    }
   ],
   "source": [
    "import time\n",
    "\n",
    "tt = time.time()\n",
    "time.sleep(10)\n",
    "time.time() - tt"
   ]
  },
  {
   "cell_type": "code",
   "execution_count": 22,
   "metadata": {},
   "outputs": [
    {
     "data": {
      "text/plain": [
       "1554279476.744652"
      ]
     },
     "execution_count": 22,
     "metadata": {},
     "output_type": "execute_result"
    }
   ],
   "source": [
    "# timestamp\n",
    "tt"
   ]
  },
  {
   "cell_type": "code",
   "execution_count": 19,
   "metadata": {},
   "outputs": [
    {
     "data": {
      "text/plain": [
       "10.000425142992754"
      ]
     },
     "execution_count": 19,
     "metadata": {},
     "output_type": "execute_result"
    }
   ],
   "source": [
    "tp = time.perf_counter()\n",
    "time.sleep(10)\n",
    "time.perf_counter() - tp"
   ]
  },
  {
   "cell_type": "code",
   "execution_count": 1,
   "metadata": {},
   "outputs": [
    {
     "ename": "NameError",
     "evalue": "name 'tp' is not defined",
     "output_type": "error",
     "traceback": [
      "\u001b[0;31m---------------------------------------------------------------------------\u001b[0m",
      "\u001b[0;31mNameError\u001b[0m                                 Traceback (most recent call last)",
      "\u001b[0;32m<ipython-input-1-6fc78332fdd4>\u001b[0m in \u001b[0;36m<module>\u001b[0;34m()\u001b[0m\n\u001b[0;32m----> 1\u001b[0;31m \u001b[0mtp\u001b[0m\u001b[0;34m\u001b[0m\u001b[0m\n\u001b[0m",
      "\u001b[0;31mNameError\u001b[0m: name 'tp' is not defined"
     ]
    }
   ],
   "source": [
    "tp"
   ]
  },
  {
   "cell_type": "code",
   "execution_count": null,
   "metadata": {},
   "outputs": [],
   "source": [
    "import ipdb; ipdb.set_trace()"
   ]
  }
 ],
 "metadata": {
  "kernelspec": {
   "display_name": "Python 3",
   "language": "python",
   "name": "python3"
  },
  "language_info": {
   "codemirror_mode": {
    "name": "ipython",
    "version": 3
   },
   "file_extension": ".py",
   "mimetype": "text/x-python",
   "name": "python",
   "nbconvert_exporter": "python",
   "pygments_lexer": "ipython3",
   "version": "3.6.4"
  }
 },
 "nbformat": 4,
 "nbformat_minor": 2
}
